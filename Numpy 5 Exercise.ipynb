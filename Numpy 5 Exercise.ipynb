{
 "cells": [
  {
   "cell_type": "code",
   "execution_count": 2,
   "id": "9a36e76b",
   "metadata": {},
   "outputs": [],
   "source": [
    "import numpy as np"
   ]
  },
  {
   "cell_type": "code",
   "execution_count": 6,
   "id": "049330e4",
   "metadata": {},
   "outputs": [],
   "source": [
    "array_r_1=np.random.randint(1,150,20)"
   ]
  },
  {
   "cell_type": "code",
   "execution_count": 5,
   "id": "b6b9d18c",
   "metadata": {},
   "outputs": [
    {
     "data": {
      "text/plain": [
       "array([105,  79,  54, 124,  56,  30, 138, 118, 139,  86,  90, 134,  24,\n",
       "        98, 103,  75,  24, 129,  60,  45])"
      ]
     },
     "execution_count": 5,
     "metadata": {},
     "output_type": "execute_result"
    }
   ],
   "source": [
    "array_r_1"
   ]
  },
  {
   "cell_type": "code",
   "execution_count": 6,
   "id": "374dd433",
   "metadata": {},
   "outputs": [
    {
     "data": {
      "text/plain": [
       "1711"
      ]
     },
     "execution_count": 6,
     "metadata": {},
     "output_type": "execute_result"
    }
   ],
   "source": [
    "array_r_1.sum()"
   ]
  },
  {
   "cell_type": "code",
   "execution_count": 7,
   "id": "18aee1fa",
   "metadata": {},
   "outputs": [
    {
     "data": {
      "text/plain": [
       "139"
      ]
     },
     "execution_count": 7,
     "metadata": {},
     "output_type": "execute_result"
    }
   ],
   "source": [
    "array_r_1.max()"
   ]
  },
  {
   "cell_type": "code",
   "execution_count": 8,
   "id": "dc70305c",
   "metadata": {},
   "outputs": [
    {
     "data": {
      "text/plain": [
       "24"
      ]
     },
     "execution_count": 8,
     "metadata": {},
     "output_type": "execute_result"
    }
   ],
   "source": [
    "array_r_1.min()"
   ]
  },
  {
   "cell_type": "code",
   "execution_count": 9,
   "id": "06e9af05",
   "metadata": {},
   "outputs": [
    {
     "data": {
      "text/plain": [
       "85.55"
      ]
     },
     "execution_count": 9,
     "metadata": {},
     "output_type": "execute_result"
    }
   ],
   "source": [
    "array_r_1.mean()"
   ]
  },
  {
   "cell_type": "code",
   "execution_count": 3,
   "id": "d25229bd",
   "metadata": {},
   "outputs": [],
   "source": [
    "array_2=np.arange(1,60,3)"
   ]
  },
  {
   "cell_type": "code",
   "execution_count": 11,
   "id": "bc52a8fe",
   "metadata": {},
   "outputs": [
    {
     "data": {
      "text/plain": [
       "array([ 1,  4,  7, 10, 13, 16, 19, 22, 25, 28, 31, 34, 37, 40, 43, 46, 49,\n",
       "       52, 55, 58])"
      ]
     },
     "execution_count": 11,
     "metadata": {},
     "output_type": "execute_result"
    }
   ],
   "source": [
    "array_2"
   ]
  },
  {
   "cell_type": "code",
   "execution_count": 13,
   "id": "ab1f6efc",
   "metadata": {},
   "outputs": [
    {
     "data": {
      "text/plain": [
       "array([106,  83,  61, 134,  69,  46, 157, 140, 164, 114, 121, 168,  61,\n",
       "       138, 146, 121,  73, 181, 115, 103])"
      ]
     },
     "execution_count": 13,
     "metadata": {},
     "output_type": "execute_result"
    }
   ],
   "source": [
    "array_2+array_r_1"
   ]
  },
  {
   "cell_type": "code",
   "execution_count": 14,
   "id": "50e99042",
   "metadata": {},
   "outputs": [
    {
     "data": {
      "text/plain": [
       "array([105,  79,  54, 124,  56,  30, 138, 118, 139,  86,  90, 134,  24,\n",
       "        98, 103,  75,  24, 129,  60,  45])"
      ]
     },
     "execution_count": 14,
     "metadata": {},
     "output_type": "execute_result"
    }
   ],
   "source": [
    "array_r_1"
   ]
  },
  {
   "cell_type": "code",
   "execution_count": 15,
   "id": "d1821b55",
   "metadata": {},
   "outputs": [
    {
     "data": {
      "text/plain": [
       "90"
      ]
     },
     "execution_count": 15,
     "metadata": {},
     "output_type": "execute_result"
    }
   ],
   "source": [
    "array_r_1[10]"
   ]
  },
  {
   "cell_type": "code",
   "execution_count": 16,
   "id": "5d78026e",
   "metadata": {},
   "outputs": [],
   "source": [
    "r_element=array_r_1[np.random.randint(1,21,1)]"
   ]
  },
  {
   "cell_type": "code",
   "execution_count": 17,
   "id": "f3ddf500",
   "metadata": {},
   "outputs": [
    {
     "data": {
      "text/plain": [
       "array([54])"
      ]
     },
     "execution_count": 17,
     "metadata": {},
     "output_type": "execute_result"
    }
   ],
   "source": [
    "r_element"
   ]
  },
  {
   "cell_type": "code",
   "execution_count": 18,
   "id": "5e01b0e2",
   "metadata": {},
   "outputs": [],
   "source": [
    "index_value=np.where(array_r_1==r_element)"
   ]
  },
  {
   "cell_type": "code",
   "execution_count": 19,
   "id": "2192ef08",
   "metadata": {},
   "outputs": [
    {
     "data": {
      "text/plain": [
       "(array([2], dtype=int64),)"
      ]
     },
     "execution_count": 19,
     "metadata": {},
     "output_type": "execute_result"
    }
   ],
   "source": [
    "index_value"
   ]
  },
  {
   "cell_type": "code",
   "execution_count": 7,
   "id": "18e595e2",
   "metadata": {},
   "outputs": [],
   "source": [
    "array_r_2=array_r_1.reshape(4,5)\n"
   ]
  },
  {
   "cell_type": "code",
   "execution_count": 8,
   "id": "09707a3a",
   "metadata": {},
   "outputs": [
    {
     "data": {
      "text/plain": [
       "array([[106,   5,  30, 128,  45],\n",
       "       [129, 126,  88,  84, 140],\n",
       "       [ 27,  75,  59,  29, 132],\n",
       "       [ 17, 148, 109,  66, 109]])"
      ]
     },
     "execution_count": 8,
     "metadata": {},
     "output_type": "execute_result"
    }
   ],
   "source": [
    "array_r_2"
   ]
  },
  {
   "cell_type": "code",
   "execution_count": 10,
   "id": "58e58614",
   "metadata": {},
   "outputs": [
    {
     "data": {
      "text/plain": [
       "array([[ 30, 128],\n",
       "       [ 88,  84],\n",
       "       [ 59,  29]])"
      ]
     },
     "execution_count": 10,
     "metadata": {},
     "output_type": "execute_result"
    }
   ],
   "source": [
    "array_r_2[:,(2,3)]"
   ]
  },
  {
   "cell_type": "code",
   "execution_count": 23,
   "id": "d8fa1107",
   "metadata": {},
   "outputs": [],
   "source": [
    "array_r_b=np.pad(array_r_2,pad_width= 1, mode = 'constant', constant_values = 0)"
   ]
  },
  {
   "cell_type": "code",
   "execution_count": 24,
   "id": "d22d1ef9",
   "metadata": {},
   "outputs": [
    {
     "name": "stdout",
     "output_type": "stream",
     "text": [
      "[[  0   0   0   0   0   0   0]\n",
      " [  0 105  79  54 124  56   0]\n",
      " [  0  30 138 118 139  86   0]\n",
      " [  0  90 134  24  98 103   0]\n",
      " [  0  75  24 129  60  45   0]\n",
      " [  0   0   0   0   0   0   0]]\n"
     ]
    }
   ],
   "source": [
    "print(array_r_b)"
   ]
  },
  {
   "cell_type": "code",
   "execution_count": 25,
   "id": "4f40ade9",
   "metadata": {},
   "outputs": [],
   "source": [
    "array_r_3=np.random.randint(1,100,30)"
   ]
  },
  {
   "cell_type": "code",
   "execution_count": 26,
   "id": "2639a2dd",
   "metadata": {},
   "outputs": [],
   "source": [
    "array_r_3=array_r_3.reshape(6,5)"
   ]
  },
  {
   "cell_type": "code",
   "execution_count": 27,
   "id": "f8919400",
   "metadata": {},
   "outputs": [
    {
     "data": {
      "text/plain": [
       "array([[27, 12, 72, 24, 15],\n",
       "       [14, 21, 81, 72, 92],\n",
       "       [16, 87, 24, 93, 65],\n",
       "       [25, 22, 46, 18, 54],\n",
       "       [18, 79, 43, 89, 50],\n",
       "       [87, 37, 98, 80, 80]])"
      ]
     },
     "execution_count": 27,
     "metadata": {},
     "output_type": "execute_result"
    }
   ],
   "source": [
    "array_r_3"
   ]
  },
  {
   "cell_type": "code",
   "execution_count": 28,
   "id": "a9a79e49",
   "metadata": {},
   "outputs": [],
   "source": [
    "array_r_3.sort()"
   ]
  },
  {
   "cell_type": "code",
   "execution_count": 29,
   "id": "1ba94c9a",
   "metadata": {},
   "outputs": [
    {
     "data": {
      "text/plain": [
       "array([[12, 15, 24, 27, 72],\n",
       "       [14, 21, 72, 81, 92],\n",
       "       [16, 24, 65, 87, 93],\n",
       "       [18, 22, 25, 46, 54],\n",
       "       [18, 43, 50, 79, 89],\n",
       "       [37, 80, 80, 87, 98]])"
      ]
     },
     "execution_count": 29,
     "metadata": {},
     "output_type": "execute_result"
    }
   ],
   "source": [
    "array_r_3"
   ]
  },
  {
   "cell_type": "code",
   "execution_count": 31,
   "id": "ea317bf2",
   "metadata": {},
   "outputs": [],
   "source": [
    "np.put(array_r_3,np.random.choice(range(5,6),replace=False),1)"
   ]
  },
  {
   "cell_type": "code",
   "execution_count": 32,
   "id": "1a9b2419",
   "metadata": {},
   "outputs": [
    {
     "data": {
      "text/plain": [
       "array([[12, 15, 24, 27, 72],\n",
       "       [ 1, 21, 72, 81, 92],\n",
       "       [16, 24, 65, 87, 93],\n",
       "       [18, 22, 25, 46, 54],\n",
       "       [18, 43, 50, 79, 89],\n",
       "       [37, 80, 80, 87, 98]])"
      ]
     },
     "execution_count": 32,
     "metadata": {},
     "output_type": "execute_result"
    }
   ],
   "source": [
    "array_r_3"
   ]
  },
  {
   "cell_type": "code",
   "execution_count": 33,
   "id": "8b8b126c",
   "metadata": {},
   "outputs": [],
   "source": [
    "array_5=np.arange(1,101).reshape(10,10)"
   ]
  },
  {
   "cell_type": "code",
   "execution_count": 34,
   "id": "4a8ae255",
   "metadata": {},
   "outputs": [
    {
     "data": {
      "text/plain": [
       "array([[  1,   2,   3,   4,   5,   6,   7,   8,   9,  10],\n",
       "       [ 11,  12,  13,  14,  15,  16,  17,  18,  19,  20],\n",
       "       [ 21,  22,  23,  24,  25,  26,  27,  28,  29,  30],\n",
       "       [ 31,  32,  33,  34,  35,  36,  37,  38,  39,  40],\n",
       "       [ 41,  42,  43,  44,  45,  46,  47,  48,  49,  50],\n",
       "       [ 51,  52,  53,  54,  55,  56,  57,  58,  59,  60],\n",
       "       [ 61,  62,  63,  64,  65,  66,  67,  68,  69,  70],\n",
       "       [ 71,  72,  73,  74,  75,  76,  77,  78,  79,  80],\n",
       "       [ 81,  82,  83,  84,  85,  86,  87,  88,  89,  90],\n",
       "       [ 91,  92,  93,  94,  95,  96,  97,  98,  99, 100]])"
      ]
     },
     "execution_count": 34,
     "metadata": {},
     "output_type": "execute_result"
    }
   ],
   "source": [
    "array_5"
   ]
  },
  {
   "cell_type": "code",
   "execution_count": 35,
   "id": "dfcce78c",
   "metadata": {},
   "outputs": [
    {
     "data": {
      "text/plain": [
       "array([[ 51,  52,  53,  54,  55,  56,  57,  58,  59,  60],\n",
       "       [ 61,  62,  63,  64,  65,  66,  67,  68,  69,  70],\n",
       "       [ 71,  72,  73,  74,  75,  76,  77,  78,  79,  80],\n",
       "       [ 81,  82,  83,  84,  85,  86,  87,  88,  89,  90],\n",
       "       [ 91,  92,  93,  94,  95,  96,  97,  98,  99, 100]])"
      ]
     },
     "execution_count": 35,
     "metadata": {},
     "output_type": "execute_result"
    }
   ],
   "source": [
    "array_5[5:]"
   ]
  },
  {
   "cell_type": "code",
   "execution_count": 36,
   "id": "41f413fe",
   "metadata": {},
   "outputs": [
    {
     "data": {
      "text/plain": [
       "array([[ 46,  47,  48,  49,  50],\n",
       "       [ 56,  57,  58,  59,  60],\n",
       "       [ 66,  67,  68,  69,  70],\n",
       "       [ 76,  77,  78,  79,  80],\n",
       "       [ 86,  87,  88,  89,  90],\n",
       "       [ 96,  97,  98,  99, 100]])"
      ]
     },
     "execution_count": 36,
     "metadata": {},
     "output_type": "execute_result"
    }
   ],
   "source": [
    "array_5[4:,5:]"
   ]
  },
  {
   "cell_type": "code",
   "execution_count": 37,
   "id": "3a49e0a5",
   "metadata": {},
   "outputs": [
    {
     "data": {
      "text/plain": [
       "array([[25, 26, 27],\n",
       "       [35, 36, 37],\n",
       "       [45, 46, 47]])"
      ]
     },
     "execution_count": 37,
     "metadata": {},
     "output_type": "execute_result"
    }
   ],
   "source": [
    "array_5[2:5,4:7]"
   ]
  },
  {
   "cell_type": "code",
   "execution_count": 38,
   "id": "e450adba",
   "metadata": {},
   "outputs": [
    {
     "data": {
      "text/plain": [
       "array([[  1,   2,   3,   4,   5,   6,   7,   8,   9,  10],\n",
       "       [ 11,  12,  13,  14,  15,  16,  17,  18,  19,  20],\n",
       "       [ 21,  22,  23,  24,  25,  26,  27,  28,  29,  30],\n",
       "       [ 31,  32,  33,  34,  35,  36,  37,  38,  39,  40],\n",
       "       [ 41,  42,  43,  44,  45,  46,  47,  48,  49,  50],\n",
       "       [ 51,  52,  53,  54,  55,  56,  57,  58,  59,  60],\n",
       "       [ 61,  62,  63,  64,  65,  66,  67,  68,  69,  70],\n",
       "       [ 71,  72,  73,  74,  75,  76,  77,  78,  79,  80],\n",
       "       [ 81,  82,  83,  84,  85,  86,  87,  88,  89,  90],\n",
       "       [ 91,  92,  93,  94,  95,  96,  97,  98,  99, 100]])"
      ]
     },
     "execution_count": 38,
     "metadata": {},
     "output_type": "execute_result"
    }
   ],
   "source": [
    "array_5"
   ]
  },
  {
   "cell_type": "code",
   "execution_count": 39,
   "id": "93534ff6",
   "metadata": {},
   "outputs": [
    {
     "data": {
      "text/plain": [
       "array([ 10,  20,  30,  40,  50,  60,  70,  80,  90, 100])"
      ]
     },
     "execution_count": 39,
     "metadata": {},
     "output_type": "execute_result"
    }
   ],
   "source": [
    "array_5[:,9]"
   ]
  },
  {
   "cell_type": "code",
   "execution_count": 40,
   "id": "6ba027f6",
   "metadata": {},
   "outputs": [],
   "source": [
    "array_a=((np.random.rand(15)*10).astype(int)).reshape(3,5)"
   ]
  },
  {
   "cell_type": "code",
   "execution_count": 41,
   "id": "9bae2495",
   "metadata": {},
   "outputs": [],
   "source": [
    "array_b=((np.random.rand(15)*10).astype(int)).reshape(3,5)"
   ]
  },
  {
   "cell_type": "code",
   "execution_count": 42,
   "id": "e3570d5a",
   "metadata": {},
   "outputs": [
    {
     "data": {
      "text/plain": [
       "array([[5, 1, 1, 0, 8],\n",
       "       [6, 7, 2, 9, 4],\n",
       "       [3, 3, 5, 9, 0]])"
      ]
     },
     "execution_count": 42,
     "metadata": {},
     "output_type": "execute_result"
    }
   ],
   "source": [
    "array_a"
   ]
  },
  {
   "cell_type": "code",
   "execution_count": 43,
   "id": "e4fa7230",
   "metadata": {},
   "outputs": [
    {
     "data": {
      "text/plain": [
       "array([[3, 9, 6, 3, 3],\n",
       "       [0, 5, 8, 3, 0],\n",
       "       [2, 8, 9, 8, 2]])"
      ]
     },
     "execution_count": 43,
     "metadata": {},
     "output_type": "execute_result"
    }
   ],
   "source": [
    "array_b"
   ]
  },
  {
   "cell_type": "code",
   "execution_count": 44,
   "id": "40aa6a51",
   "metadata": {},
   "outputs": [
    {
     "data": {
      "text/plain": [
       "array([[ 8, 10,  7,  3, 11],\n",
       "       [ 6, 12, 10, 12,  4],\n",
       "       [ 5, 11, 14, 17,  2]])"
      ]
     },
     "execution_count": 44,
     "metadata": {},
     "output_type": "execute_result"
    }
   ],
   "source": [
    "array_a+array_b"
   ]
  },
  {
   "cell_type": "code",
   "execution_count": 45,
   "id": "2b048b39",
   "metadata": {},
   "outputs": [
    {
     "data": {
      "text/plain": [
       "array([[15,  9,  6,  0, 24],\n",
       "       [ 0, 35, 16, 27,  0],\n",
       "       [ 6, 24, 45, 72,  0]])"
      ]
     },
     "execution_count": 45,
     "metadata": {},
     "output_type": "execute_result"
    }
   ],
   "source": [
    "array_a*array_b"
   ]
  },
  {
   "cell_type": "code",
   "execution_count": 46,
   "id": "74aa28c7",
   "metadata": {},
   "outputs": [
    {
     "name": "stderr",
     "output_type": "stream",
     "text": [
      "<ipython-input-46-92ed3b6eb0a7>:1: RuntimeWarning: divide by zero encountered in true_divide\n",
      "  array_a/array_b\n"
     ]
    },
    {
     "data": {
      "text/plain": [
       "array([[1.66666667, 0.11111111, 0.16666667, 0.        , 2.66666667],\n",
       "       [       inf, 1.4       , 0.25      , 3.        ,        inf],\n",
       "       [1.5       , 0.375     , 0.55555556, 1.125     , 0.        ]])"
      ]
     },
     "execution_count": 46,
     "metadata": {},
     "output_type": "execute_result"
    }
   ],
   "source": [
    "array_a/array_b"
   ]
  },
  {
   "cell_type": "code",
   "execution_count": 47,
   "id": "761ef307",
   "metadata": {},
   "outputs": [
    {
     "name": "stderr",
     "output_type": "stream",
     "text": [
      "<ipython-input-47-863a38075a6d>:1: RuntimeWarning: divide by zero encountered in true_divide\n",
      "  (array_a/array_b).astype(int)\n"
     ]
    },
    {
     "data": {
      "text/plain": [
       "array([[          1,           0,           0,           0,           2],\n",
       "       [-2147483648,           1,           0,           3, -2147483648],\n",
       "       [          1,           0,           0,           1,           0]])"
      ]
     },
     "execution_count": 47,
     "metadata": {},
     "output_type": "execute_result"
    }
   ],
   "source": [
    "(array_a/array_b).astype(int)"
   ]
  },
  {
   "cell_type": "code",
   "execution_count": null,
   "id": "22c31b78",
   "metadata": {},
   "outputs": [],
   "source": []
  }
 ],
 "metadata": {
  "kernelspec": {
   "display_name": "Python 3",
   "language": "python",
   "name": "python3"
  },
  "language_info": {
   "codemirror_mode": {
    "name": "ipython",
    "version": 3
   },
   "file_extension": ".py",
   "mimetype": "text/x-python",
   "name": "python",
   "nbconvert_exporter": "python",
   "pygments_lexer": "ipython3",
   "version": "3.8.8"
  }
 },
 "nbformat": 4,
 "nbformat_minor": 5
}
