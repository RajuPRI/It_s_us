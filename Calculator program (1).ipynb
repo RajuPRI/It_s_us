{
 "cells": [
  {
   "cell_type": "code",
   "execution_count": 1,
   "id": "ef6b5079",
   "metadata": {},
   "outputs": [],
   "source": [
    "##addition,subtraction,multiplication,division,exponent,calculating area of triangle,square,square root"
   ]
  },
  {
   "cell_type": "code",
   "execution_count": 3,
   "id": "2e746314",
   "metadata": {},
   "outputs": [
    {
     "name": "stdout",
     "output_type": "stream",
     "text": [
      "1=addition\n",
      "2=subtraction\n",
      "3=multiplication\n",
      "4=division\n",
      "5=exponent\n",
      "6=calculating area of triangle\n",
      "7=square\n",
      "8=square root\n",
      "Enter the number corresponding to the function you want: 2\n",
      "Enter first number: 45\n",
      "Enter second number: 5\n",
      "40\n"
     ]
    }
   ],
   "source": [
    "import math\n",
    "print('1=addition\\n2=subtraction\\n3=multiplication\\n4=division\\n5=exponent\\n6=calculating area of triangle\\n7=square\\n8=square root')\n",
    "A=int(input('Enter the number corresponding to the function you want: '))\n",
    "B=int(input('Enter first number: '))\n",
    "C=int(input('Enter second number: '))\n",
    "if A==1:\n",
    "    print(B+C)\n",
    "elif A==2:\n",
    "    print(B-C)\n",
    "elif A==3:\n",
    "    print(B*C)\n",
    "elif A==4:\n",
    "    print(B/C)\n",
    "elif A==5:\n",
    "    print(B**C)\n",
    "else:\n",
    "    print('Error')"
   ]
  },
  {
   "cell_type": "code",
   "execution_count": 1,
   "id": "c6f8ab9b",
   "metadata": {},
   "outputs": [
    {
     "name": "stdout",
     "output_type": "stream",
     "text": [
      "0=close operation\n",
      "1=addition\n",
      "2=subtraction\n",
      "3=multiplication\n",
      "4=division\n",
      "5=exponent\n",
      "6=calculating area of triangle\n",
      "7=square\n",
      "8=square root\n",
      "Enter the function you want to perform2\n",
      "Enter first number: 4\n",
      "Enter second number: 1\n",
      "3\n",
      "Enter the function you want to perform7\n",
      "Enter first number: 25\n",
      "625\n",
      "Enter the function you want to perform8\n",
      "Enter first number: 49\n",
      "7.0\n",
      "Enter the function you want to perform0\n"
     ]
    }
   ],
   "source": [
    "import math\n",
    "print('0=close operation\\n1=addition\\n2=subtraction\\n3=multiplication\\n4=division\\n5=exponent\\n6=calculating area of triangle\\n7=square\\n8=square root')\n",
    "operation=int\n",
    "while operation!=0:\n",
    "    operation=int(input('Enter the function you want to perform'))\n",
    "    if operation==1:\n",
    "        A=int(input('Enter first number: '))\n",
    "        B=int(input('Enter second number: '))\n",
    "        print(A+B)\n",
    "    elif operation==2:\n",
    "        A=int(input('Enter first number: '))\n",
    "        B=int(input('Enter second number: '))\n",
    "        print(A-B)\n",
    "    elif operation==3:\n",
    "        A=int(input('Enter first number: '))\n",
    "        B=int(input('Enter second number: '))\n",
    "        print(A*B)\n",
    "    elif operation==4:\n",
    "        A=int(input('Enter first number: '))\n",
    "        B=int(input('Enter second number: '))\n",
    "        print(A/B)\n",
    "    elif operation==5:\n",
    "        A=int(input('Enter first number: '))\n",
    "        B=int(input('Enter second number: '))\n",
    "        print(A**B)\n",
    "    elif operation==6:\n",
    "        A=int(input('Enter first number: '))\n",
    "        B=int(input('Enter second number: '))\n",
    "        print(0.5*A*B)\n",
    "    elif operation==7:\n",
    "        A=int(input('Enter first number: '))\n",
    "        print(A**2)\n",
    "    elif operation==8:\n",
    "        A=int(input('Enter first number: '))\n",
    "        print(A**0.5)\n",
    "    elif operation==0:\n",
    "        break\n",
    "    else:\n",
    "        print('Error')\n"
   ]
  },
  {
   "cell_type": "code",
   "execution_count": null,
   "id": "94e9c2e8",
   "metadata": {},
   "outputs": [],
   "source": []
  }
 ],
 "metadata": {
  "kernelspec": {
   "display_name": "Python 3",
   "language": "python",
   "name": "python3"
  },
  "language_info": {
   "codemirror_mode": {
    "name": "ipython",
    "version": 3
   },
   "file_extension": ".py",
   "mimetype": "text/x-python",
   "name": "python",
   "nbconvert_exporter": "python",
   "pygments_lexer": "ipython3",
   "version": "3.8.8"
  }
 },
 "nbformat": 4,
 "nbformat_minor": 5
}
