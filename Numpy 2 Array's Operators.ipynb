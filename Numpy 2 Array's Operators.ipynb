{
 "cells": [
  {
   "cell_type": "code",
   "execution_count": 1,
   "id": "5c06a3ab",
   "metadata": {},
   "outputs": [],
   "source": [
    "import numpy as np"
   ]
  },
  {
   "cell_type": "code",
   "execution_count": 4,
   "id": "0ab226cd",
   "metadata": {},
   "outputs": [],
   "source": [
    "numbers_1=np.arange(1,10,2)\n",
    "numbers_rand=np.random.randint(1,20,5)"
   ]
  },
  {
   "cell_type": "code",
   "execution_count": 5,
   "id": "1b5f76b9",
   "metadata": {},
   "outputs": [
    {
     "data": {
      "text/plain": [
       "array([1, 3, 5, 7, 9])"
      ]
     },
     "execution_count": 5,
     "metadata": {},
     "output_type": "execute_result"
    }
   ],
   "source": [
    "numbers_1"
   ]
  },
  {
   "cell_type": "code",
   "execution_count": 6,
   "id": "bc69cf85",
   "metadata": {},
   "outputs": [
    {
     "data": {
      "text/plain": [
       "array([19,  8,  1, 19, 15])"
      ]
     },
     "execution_count": 6,
     "metadata": {},
     "output_type": "execute_result"
    }
   ],
   "source": [
    "numbers_rand"
   ]
  },
  {
   "cell_type": "code",
   "execution_count": 7,
   "id": "0ea21649",
   "metadata": {},
   "outputs": [
    {
     "data": {
      "text/plain": [
       "array([20, 11,  6, 26, 24])"
      ]
     },
     "execution_count": 7,
     "metadata": {},
     "output_type": "execute_result"
    }
   ],
   "source": [
    "numbers_1+numbers_rand"
   ]
  },
  {
   "cell_type": "code",
   "execution_count": 10,
   "id": "2687bb7b",
   "metadata": {},
   "outputs": [
    {
     "data": {
      "text/plain": [
       "array([361,  64,   1, 361, 225])"
      ]
     },
     "execution_count": 10,
     "metadata": {},
     "output_type": "execute_result"
    }
   ],
   "source": [
    "numbers_1*numbers_rand"
   ]
  },
  {
   "cell_type": "code",
   "execution_count": 11,
   "id": "ec38c2d2",
   "metadata": {},
   "outputs": [
    {
     "data": {
      "text/plain": [
       "array([6.33333333, 2.66666667, 0.33333333, 6.33333333, 5.        ])"
      ]
     },
     "execution_count": 11,
     "metadata": {},
     "output_type": "execute_result"
    }
   ],
   "source": [
    "numbers_1/3"
   ]
  },
  {
   "cell_type": "code",
   "execution_count": 12,
   "id": "20119d79",
   "metadata": {},
   "outputs": [
    {
     "data": {
      "text/plain": [
       "array([6.33333333, 2.66666667, 0.33333333, 6.33333333, 5.        ])"
      ]
     },
     "execution_count": 12,
     "metadata": {},
     "output_type": "execute_result"
    }
   ],
   "source": [
    "numbers_rand/3"
   ]
  },
  {
   "cell_type": "code",
   "execution_count": 13,
   "id": "956d94dd",
   "metadata": {},
   "outputs": [],
   "source": [
    "numbers_1+=5"
   ]
  },
  {
   "cell_type": "code",
   "execution_count": 14,
   "id": "ee726b77",
   "metadata": {},
   "outputs": [],
   "source": [
    "numbers_rand+=3"
   ]
  },
  {
   "cell_type": "code",
   "execution_count": 15,
   "id": "f7d90cab",
   "metadata": {},
   "outputs": [
    {
     "data": {
      "text/plain": [
       "array([27, 16,  9, 27, 23])"
      ]
     },
     "execution_count": 15,
     "metadata": {},
     "output_type": "execute_result"
    }
   ],
   "source": [
    "numbers_1"
   ]
  },
  {
   "cell_type": "code",
   "execution_count": 16,
   "id": "e79ab2de",
   "metadata": {},
   "outputs": [
    {
     "data": {
      "text/plain": [
       "array([27, 16,  9, 27, 23])"
      ]
     },
     "execution_count": 16,
     "metadata": {},
     "output_type": "execute_result"
    }
   ],
   "source": [
    "numbers_rand"
   ]
  },
  {
   "cell_type": "code",
   "execution_count": 18,
   "id": "69df7265",
   "metadata": {},
   "outputs": [
    {
     "data": {
      "text/plain": [
       "array([5.19615242, 4.        , 3.        , 5.19615242, 4.79583152])"
      ]
     },
     "execution_count": 18,
     "metadata": {},
     "output_type": "execute_result"
    }
   ],
   "source": [
    "np.sqrt(numbers_1)"
   ]
  },
  {
   "cell_type": "code",
   "execution_count": 19,
   "id": "2240a015",
   "metadata": {},
   "outputs": [
    {
     "data": {
      "text/plain": [
       "array([5.19615242, 4.        , 3.        , 5.19615242, 4.79583152])"
      ]
     },
     "execution_count": 19,
     "metadata": {},
     "output_type": "execute_result"
    }
   ],
   "source": [
    "np.sqrt(numbers_rand)"
   ]
  },
  {
   "cell_type": "code",
   "execution_count": 20,
   "id": "9cdd6a9a",
   "metadata": {},
   "outputs": [],
   "source": [
    "s_1=np.arange(1,10,2)\n",
    "s_2=np.arange(1,11,3)"
   ]
  },
  {
   "cell_type": "code",
   "execution_count": 21,
   "id": "0cc72a8c",
   "metadata": {},
   "outputs": [
    {
     "data": {
      "text/plain": [
       "array([1, 3, 5, 7, 9])"
      ]
     },
     "execution_count": 21,
     "metadata": {},
     "output_type": "execute_result"
    }
   ],
   "source": [
    "s_1"
   ]
  },
  {
   "cell_type": "code",
   "execution_count": 22,
   "id": "4f5cf97e",
   "metadata": {},
   "outputs": [
    {
     "data": {
      "text/plain": [
       "array([ 1,  4,  7, 10])"
      ]
     },
     "execution_count": 22,
     "metadata": {},
     "output_type": "execute_result"
    }
   ],
   "source": [
    "s_2"
   ]
  },
  {
   "cell_type": "code",
   "execution_count": 23,
   "id": "37b0700d",
   "metadata": {},
   "outputs": [
    {
     "ename": "ValueError",
     "evalue": "operands could not be broadcast together with shapes (5,) (4,) ",
     "output_type": "error",
     "traceback": [
      "\u001b[1;31m---------------------------------------------------------------------------\u001b[0m",
      "\u001b[1;31mValueError\u001b[0m                                Traceback (most recent call last)",
      "\u001b[1;32m<ipython-input-23-ffa2e67aec00>\u001b[0m in \u001b[0;36m<module>\u001b[1;34m\u001b[0m\n\u001b[1;32m----> 1\u001b[1;33m \u001b[0ms_1\u001b[0m\u001b[1;33m+\u001b[0m\u001b[0ms_2\u001b[0m\u001b[1;33m\u001b[0m\u001b[1;33m\u001b[0m\u001b[0m\n\u001b[0m",
      "\u001b[1;31mValueError\u001b[0m: operands could not be broadcast together with shapes (5,) (4,) "
     ]
    }
   ],
   "source": [
    "s_1+s_2"
   ]
  },
  {
   "cell_type": "code",
   "execution_count": null,
   "id": "c788bbcf",
   "metadata": {},
   "outputs": [],
   "source": []
  }
 ],
 "metadata": {
  "kernelspec": {
   "display_name": "Python 3",
   "language": "python",
   "name": "python3"
  },
  "language_info": {
   "codemirror_mode": {
    "name": "ipython",
    "version": 3
   },
   "file_extension": ".py",
   "mimetype": "text/x-python",
   "name": "python",
   "nbconvert_exporter": "python",
   "pygments_lexer": "ipython3",
   "version": "3.8.8"
  }
 },
 "nbformat": 4,
 "nbformat_minor": 5
}
