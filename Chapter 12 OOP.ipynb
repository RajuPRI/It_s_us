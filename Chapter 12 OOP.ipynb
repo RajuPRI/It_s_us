{
 "cells": [
  {
   "cell_type": "code",
   "execution_count": 1,
   "id": "8402471a",
   "metadata": {},
   "outputs": [],
   "source": [
    "class Phone():\n",
    "    Brand = 'Apple'\n",
    "    Model = 'IPhone X'\n",
    "    Colour = 'Black'\n",
    "    Camera = '12 MP'\n",
    "    Hdd = '128 GB'\n",
    "    Ram = '3 GB'\n",
    "    Platform = 'iOS 12.3'"
   ]
  },
  {
   "cell_type": "code",
   "execution_count": 2,
   "id": "dfbe8cba",
   "metadata": {},
   "outputs": [],
   "source": [
    "MyPhone = Phone()"
   ]
  },
  {
   "cell_type": "code",
   "execution_count": 3,
   "id": "a464379c",
   "metadata": {},
   "outputs": [
    {
     "data": {
      "text/plain": [
       "__main__.Phone"
      ]
     },
     "execution_count": 3,
     "metadata": {},
     "output_type": "execute_result"
    }
   ],
   "source": [
    "type(MyPhone)"
   ]
  },
  {
   "cell_type": "code",
   "execution_count": 4,
   "id": "2e3423d5",
   "metadata": {},
   "outputs": [
    {
     "data": {
      "text/plain": [
       "'IPhone X'"
      ]
     },
     "execution_count": 4,
     "metadata": {},
     "output_type": "execute_result"
    }
   ],
   "source": [
    "MyPhone.Model"
   ]
  },
  {
   "cell_type": "code",
   "execution_count": 5,
   "id": "4b1e4964",
   "metadata": {},
   "outputs": [
    {
     "data": {
      "text/plain": [
       "'128 GB'"
      ]
     },
     "execution_count": 5,
     "metadata": {},
     "output_type": "execute_result"
    }
   ],
   "source": [
    "MyPhone.Hdd"
   ]
  },
  {
   "cell_type": "code",
   "execution_count": 6,
   "id": "976f25d6",
   "metadata": {},
   "outputs": [],
   "source": [
    "MyPhone_2=Phone()"
   ]
  },
  {
   "cell_type": "code",
   "execution_count": 7,
   "id": "a1199e19",
   "metadata": {},
   "outputs": [
    {
     "data": {
      "text/plain": [
       "'IPhone X'"
      ]
     },
     "execution_count": 7,
     "metadata": {},
     "output_type": "execute_result"
    }
   ],
   "source": [
    "MyPhone_2.Model"
   ]
  },
  {
   "cell_type": "code",
   "execution_count": 8,
   "id": "7ab250fa",
   "metadata": {},
   "outputs": [
    {
     "data": {
      "text/plain": [
       "['Brand',\n",
       " 'Camera',\n",
       " 'Colour',\n",
       " 'Hdd',\n",
       " 'Model',\n",
       " 'Platform',\n",
       " 'Ram',\n",
       " '__class__',\n",
       " '__delattr__',\n",
       " '__dict__',\n",
       " '__dir__',\n",
       " '__doc__',\n",
       " '__eq__',\n",
       " '__format__',\n",
       " '__ge__',\n",
       " '__getattribute__',\n",
       " '__gt__',\n",
       " '__hash__',\n",
       " '__init__',\n",
       " '__init_subclass__',\n",
       " '__le__',\n",
       " '__lt__',\n",
       " '__module__',\n",
       " '__ne__',\n",
       " '__new__',\n",
       " '__reduce__',\n",
       " '__reduce_ex__',\n",
       " '__repr__',\n",
       " '__setattr__',\n",
       " '__sizeof__',\n",
       " '__str__',\n",
       " '__subclasshook__',\n",
       " '__weakref__']"
      ]
     },
     "execution_count": 8,
     "metadata": {},
     "output_type": "execute_result"
    }
   ],
   "source": [
    "dir(MyPhone)"
   ]
  },
  {
   "cell_type": "code",
   "execution_count": 12,
   "id": "773a2746",
   "metadata": {},
   "outputs": [],
   "source": [
    "class Phone():\n",
    "    def __init__(self):\n",
    "        print('The function was called.')"
   ]
  },
  {
   "cell_type": "code",
   "execution_count": 13,
   "id": "d97dc319",
   "metadata": {},
   "outputs": [
    {
     "name": "stdout",
     "output_type": "stream",
     "text": [
      "The function was called.\n"
     ]
    }
   ],
   "source": [
    "Phone_1=Phone()"
   ]
  },
  {
   "cell_type": "code",
   "execution_count": 14,
   "id": "52429722",
   "metadata": {},
   "outputs": [],
   "source": [
    "class Phone():\n",
    "    def __init__(self,Brand,Model,Colour):\n",
    "        self.Brand=Brand\n",
    "        self.Model=Model\n",
    "        self.Colour=Colour"
   ]
  },
  {
   "cell_type": "code",
   "execution_count": 15,
   "id": "3472bf25",
   "metadata": {},
   "outputs": [],
   "source": [
    "MyPhone=Phone('Samsung','M31','Black')"
   ]
  },
  {
   "cell_type": "code",
   "execution_count": 16,
   "id": "36c2da56",
   "metadata": {},
   "outputs": [
    {
     "data": {
      "text/plain": [
       "'Samsung'"
      ]
     },
     "execution_count": 16,
     "metadata": {},
     "output_type": "execute_result"
    }
   ],
   "source": [
    "MyPhone.Brand"
   ]
  },
  {
   "cell_type": "code",
   "execution_count": 17,
   "id": "97351702",
   "metadata": {},
   "outputs": [
    {
     "data": {
      "text/plain": [
       "'M31'"
      ]
     },
     "execution_count": 17,
     "metadata": {},
     "output_type": "execute_result"
    }
   ],
   "source": [
    "MyPhone.Model"
   ]
  },
  {
   "cell_type": "code",
   "execution_count": 18,
   "id": "75d6d550",
   "metadata": {},
   "outputs": [
    {
     "data": {
      "text/plain": [
       "'Black'"
      ]
     },
     "execution_count": 18,
     "metadata": {},
     "output_type": "execute_result"
    }
   ],
   "source": [
    "MyPhone.Colour"
   ]
  },
  {
   "cell_type": "code",
   "execution_count": 19,
   "id": "75284219",
   "metadata": {},
   "outputs": [],
   "source": [
    "JohnPhone=Phone('Apple','X10','Black')\n"
   ]
  },
  {
   "cell_type": "code",
   "execution_count": 20,
   "id": "cadc76be",
   "metadata": {},
   "outputs": [
    {
     "data": {
      "text/plain": [
       "'Apple'"
      ]
     },
     "execution_count": 20,
     "metadata": {},
     "output_type": "execute_result"
    }
   ],
   "source": [
    "JohnPhone.Brand"
   ]
  },
  {
   "cell_type": "code",
   "execution_count": 1,
   "id": "0abf35ae",
   "metadata": {},
   "outputs": [],
   "source": [
    "class Phone():\n",
    "    def __init__(self,Brand,Model,Colour):\n",
    "        self.Brand=Brand\n",
    "        self.Model=Model\n",
    "        self.Colour=Colour\n",
    "    def show_info(self):\n",
    "        print('Student Information',\n",
    "             '\\nBrand: ',self.Brand,\n",
    "             '\\nModel: ',self.Model,\n",
    "             '\\nColour: ',self.Colour)"
   ]
  },
  {
   "cell_type": "code",
   "execution_count": 2,
   "id": "07ce383f",
   "metadata": {},
   "outputs": [],
   "source": [
    "MyPhone_1=Phone('Samsung','M30','Black')"
   ]
  },
  {
   "cell_type": "code",
   "execution_count": 3,
   "id": "e5d84858",
   "metadata": {},
   "outputs": [
    {
     "name": "stdout",
     "output_type": "stream",
     "text": [
      "Student Information \n",
      "Brand:  Samsung \n",
      "Model:  M30 \n",
      "Colour:  Black\n"
     ]
    }
   ],
   "source": [
    "MyPhone_1.show_info()"
   ]
  },
  {
   "cell_type": "code",
   "execution_count": 2,
   "id": "6320c90b",
   "metadata": {},
   "outputs": [],
   "source": [
    "class Phone():\n",
    "    def __init__(self,Brand,Model,Colour,add_Ram):\n",
    "        self.Brand=Brand\n",
    "        self.Model=Model\n",
    "        self.Colour=Colour\n",
    "        self.add_Ram=add_Ram\n",
    "    def Change_Class(self,new_class):\n",
    "        print('Changing class...')\n",
    "        self.classes=new_class\n",
    "    def show_info(self):\n",
    "        print('Student Information',\n",
    "             '\\nBrand: ',self.Brand,\n",
    "             '\\nModel: ',self.Model,\n",
    "             '\\nColour: ',self.Colour,\n",
    "             '\\nadd_Ram: ',self.add_Ram)"
   ]
  },
  {
   "cell_type": "code",
   "execution_count": 3,
   "id": "33980dda",
   "metadata": {},
   "outputs": [],
   "source": [
    "MyPhone_3=Phone('Samsung','M31','Black','True')"
   ]
  },
  {
   "cell_type": "code",
   "execution_count": 4,
   "id": "32fbfec9",
   "metadata": {},
   "outputs": [
    {
     "name": "stdout",
     "output_type": "stream",
     "text": [
      "Student Information \n",
      "Brand:  Samsung \n",
      "Model:  M31 \n",
      "Colour:  Black \n",
      "add_Ram:  True\n"
     ]
    }
   ],
   "source": [
    "MyPhone_3.show_info()"
   ]
  },
  {
   "cell_type": "code",
   "execution_count": 11,
   "id": "bff373fb",
   "metadata": {},
   "outputs": [],
   "source": [
    "class car():\n",
    "    pass"
   ]
  },
  {
   "cell_type": "code",
   "execution_count": 12,
   "id": "c8caee19",
   "metadata": {},
   "outputs": [],
   "source": [
    "car_1=car()\n"
   ]
  },
  {
   "cell_type": "code",
   "execution_count": 5,
   "id": "99f1ccf8",
   "metadata": {},
   "outputs": [],
   "source": [
    "class car():\n",
    "    def __init__(self,brand,model):\n",
    "        print('Creating car object...')\n",
    "        self.brand=brand\n",
    "        self.model=model\n",
    "    def __str__(self):\n",
    "        return 'Model: {}\\nBrand: {}\\nModel: {}'.format(self.brand,self.model)"
   ]
  },
  {
   "cell_type": "code",
   "execution_count": 6,
   "id": "1b776359",
   "metadata": {},
   "outputs": [
    {
     "name": "stdout",
     "output_type": "stream",
     "text": [
      "Creating car object...\n"
     ]
    }
   ],
   "source": [
    "Car_2=car('Maruti','800')"
   ]
  },
  {
   "cell_type": "code",
   "execution_count": 8,
   "id": "e7ffd7d3",
   "metadata": {},
   "outputs": [
    {
     "data": {
      "text/plain": [
       "<__main__.car at 0x22cc200c3a0>"
      ]
     },
     "execution_count": 8,
     "metadata": {},
     "output_type": "execute_result"
    }
   ],
   "source": [
    "Car_2"
   ]
  },
  {
   "cell_type": "code",
   "execution_count": 9,
   "id": "09601792",
   "metadata": {},
   "outputs": [
    {
     "ename": "IndexError",
     "evalue": "Replacement index 2 out of range for positional args tuple",
     "output_type": "error",
     "traceback": [
      "\u001b[1;31m---------------------------------------------------------------------------\u001b[0m",
      "\u001b[1;31mIndexError\u001b[0m                                Traceback (most recent call last)",
      "\u001b[1;32m<ipython-input-9-b7e6e1762775>\u001b[0m in \u001b[0;36m<module>\u001b[1;34m\u001b[0m\n\u001b[1;32m----> 1\u001b[1;33m \u001b[0mprint\u001b[0m\u001b[1;33m(\u001b[0m\u001b[0mCar_2\u001b[0m\u001b[1;33m)\u001b[0m\u001b[1;33m\u001b[0m\u001b[1;33m\u001b[0m\u001b[0m\n\u001b[0m",
      "\u001b[1;32m<ipython-input-5-dcfa148b5c5f>\u001b[0m in \u001b[0;36m__str__\u001b[1;34m(self)\u001b[0m\n\u001b[0;32m      5\u001b[0m         \u001b[0mself\u001b[0m\u001b[1;33m.\u001b[0m\u001b[0mmodel\u001b[0m\u001b[1;33m=\u001b[0m\u001b[0mmodel\u001b[0m\u001b[1;33m\u001b[0m\u001b[1;33m\u001b[0m\u001b[0m\n\u001b[0;32m      6\u001b[0m     \u001b[1;32mdef\u001b[0m \u001b[0m__str__\u001b[0m\u001b[1;33m(\u001b[0m\u001b[0mself\u001b[0m\u001b[1;33m)\u001b[0m\u001b[1;33m:\u001b[0m\u001b[1;33m\u001b[0m\u001b[1;33m\u001b[0m\u001b[0m\n\u001b[1;32m----> 7\u001b[1;33m         \u001b[1;32mreturn\u001b[0m \u001b[1;34m'Model: {}\\nBrand: {}\\nModel: {}'\u001b[0m\u001b[1;33m.\u001b[0m\u001b[0mformat\u001b[0m\u001b[1;33m(\u001b[0m\u001b[0mself\u001b[0m\u001b[1;33m.\u001b[0m\u001b[0mbrand\u001b[0m\u001b[1;33m,\u001b[0m\u001b[0mself\u001b[0m\u001b[1;33m.\u001b[0m\u001b[0mmodel\u001b[0m\u001b[1;33m)\u001b[0m\u001b[1;33m\u001b[0m\u001b[1;33m\u001b[0m\u001b[0m\n\u001b[0m",
      "\u001b[1;31mIndexError\u001b[0m: Replacement index 2 out of range for positional args tuple"
     ]
    }
   ],
   "source": [
    "print(Car_2)"
   ]
  },
  {
   "cell_type": "code",
   "execution_count": null,
   "id": "f9ab3c1a",
   "metadata": {},
   "outputs": [],
   "source": []
  }
 ],
 "metadata": {
  "kernelspec": {
   "display_name": "Python 3",
   "language": "python",
   "name": "python3"
  },
  "language_info": {
   "codemirror_mode": {
    "name": "ipython",
    "version": 3
   },
   "file_extension": ".py",
   "mimetype": "text/x-python",
   "name": "python",
   "nbconvert_exporter": "python",
   "pygments_lexer": "ipython3",
   "version": "3.8.8"
  }
 },
 "nbformat": 4,
 "nbformat_minor": 5
}
