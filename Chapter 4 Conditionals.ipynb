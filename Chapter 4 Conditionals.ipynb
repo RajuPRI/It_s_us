{
 "cells": [
  {
   "cell_type": "code",
   "execution_count": 2,
   "id": "73be4566",
   "metadata": {},
   "outputs": [
    {
     "data": {
      "text/plain": [
       "True"
      ]
     },
     "execution_count": 2,
     "metadata": {},
     "output_type": "execute_result"
    }
   ],
   "source": [
    "6<7"
   ]
  },
  {
   "cell_type": "code",
   "execution_count": 3,
   "id": "9bbbb96f",
   "metadata": {},
   "outputs": [
    {
     "data": {
      "text/plain": [
       "False"
      ]
     },
     "execution_count": 3,
     "metadata": {},
     "output_type": "execute_result"
    }
   ],
   "source": [
    "'RAJDEEP'=='PRITHA'"
   ]
  },
  {
   "cell_type": "code",
   "execution_count": 4,
   "id": "0a92a40f",
   "metadata": {},
   "outputs": [
    {
     "data": {
      "text/plain": [
       "True"
      ]
     },
     "execution_count": 4,
     "metadata": {},
     "output_type": "execute_result"
    }
   ],
   "source": [
    "bool(67)"
   ]
  },
  {
   "cell_type": "code",
   "execution_count": 5,
   "id": "993d1e33",
   "metadata": {},
   "outputs": [
    {
     "data": {
      "text/plain": [
       "False"
      ]
     },
     "execution_count": 5,
     "metadata": {},
     "output_type": "execute_result"
    }
   ],
   "source": [
    "bool(6==7)"
   ]
  },
  {
   "cell_type": "code",
   "execution_count": 6,
   "id": "8edefaa8",
   "metadata": {},
   "outputs": [
    {
     "data": {
      "text/plain": [
       "True"
      ]
     },
     "execution_count": 6,
     "metadata": {},
     "output_type": "execute_result"
    }
   ],
   "source": [
    "5<6 and 54**2>25**2"
   ]
  },
  {
   "cell_type": "code",
   "execution_count": 7,
   "id": "a1a89fb8",
   "metadata": {},
   "outputs": [
    {
     "data": {
      "text/plain": [
       "False"
      ]
     },
     "execution_count": 7,
     "metadata": {},
     "output_type": "execute_result"
    }
   ],
   "source": [
    "5>6 and 54**2>25**2"
   ]
  },
  {
   "cell_type": "code",
   "execution_count": 8,
   "id": "ce65e707",
   "metadata": {},
   "outputs": [
    {
     "data": {
      "text/plain": [
       "True"
      ]
     },
     "execution_count": 8,
     "metadata": {},
     "output_type": "execute_result"
    }
   ],
   "source": [
    "5>6 or 54**2>25**2"
   ]
  },
  {
   "cell_type": "code",
   "execution_count": 9,
   "id": "a1c81737",
   "metadata": {},
   "outputs": [
    {
     "data": {
      "text/plain": [
       "True"
      ]
     },
     "execution_count": 9,
     "metadata": {},
     "output_type": "execute_result"
    }
   ],
   "source": [
    "not 5>6"
   ]
  },
  {
   "cell_type": "code",
   "execution_count": 10,
   "id": "85892892",
   "metadata": {},
   "outputs": [
    {
     "data": {
      "text/plain": [
       "False"
      ]
     },
     "execution_count": 10,
     "metadata": {},
     "output_type": "execute_result"
    }
   ],
   "source": [
    "not 5<6"
   ]
  },
  {
   "cell_type": "code",
   "execution_count": 11,
   "id": "002b2710",
   "metadata": {},
   "outputs": [
    {
     "data": {
      "text/plain": [
       "True"
      ]
     },
     "execution_count": 11,
     "metadata": {},
     "output_type": "execute_result"
    }
   ],
   "source": [
    "5!=6"
   ]
  },
  {
   "cell_type": "code",
   "execution_count": 12,
   "id": "09053e91",
   "metadata": {},
   "outputs": [
    {
     "data": {
      "text/plain": [
       "False"
      ]
     },
     "execution_count": 12,
     "metadata": {},
     "output_type": "execute_result"
    }
   ],
   "source": [
    "6!=6"
   ]
  },
  {
   "cell_type": "code",
   "execution_count": 13,
   "id": "8a534ece",
   "metadata": {},
   "outputs": [
    {
     "data": {
      "text/plain": [
       "True"
      ]
     },
     "execution_count": 13,
     "metadata": {},
     "output_type": "execute_result"
    }
   ],
   "source": [
    "'four'>'five'"
   ]
  },
  {
   "cell_type": "code",
   "execution_count": 14,
   "id": "c7bc9bfc",
   "metadata": {},
   "outputs": [
    {
     "data": {
      "text/plain": [
       "True"
      ]
     },
     "execution_count": 14,
     "metadata": {},
     "output_type": "execute_result"
    }
   ],
   "source": [
    "'six'>'four'"
   ]
  },
  {
   "cell_type": "code",
   "execution_count": 17,
   "id": "44ebfcc0",
   "metadata": {},
   "outputs": [
    {
     "name": "stdout",
     "output_type": "stream",
     "text": [
      "Enter a number: 70\n",
      "The number is more than 50\n"
     ]
    }
   ],
   "source": [
    "##we check if a given number is less than 50\n",
    "A=int(input('Enter a number: '))\n",
    "if A<50: \n",
    "    print('The number is below 50')\n",
    "else:\n",
    "    print('The number is more than 50')"
   ]
  },
  {
   "cell_type": "code",
   "execution_count": 18,
   "id": "0091c288",
   "metadata": {},
   "outputs": [
    {
     "name": "stdout",
     "output_type": "stream",
     "text": [
      "Enter a number: 21\n",
      "The number is below 50\n",
      "Error\n"
     ]
    }
   ],
   "source": [
    "A=int(input('Enter a number: '))\n",
    "if A<50: \n",
    "    print('The number is below 50')\n",
    "    if A<25: \n",
    "        print('Error')\n",
    "else:\n",
    "    print('The number is more than 50')"
   ]
  },
  {
   "cell_type": "code",
   "execution_count": 2,
   "id": "eb54d4e7",
   "metadata": {},
   "outputs": [
    {
     "name": "stdout",
     "output_type": "stream",
     "text": [
      "Enter a number: 65\n",
      "The number is invalid\n"
     ]
    }
   ],
   "source": [
    "A=int(input('Enter a number: '))\n",
    "if A<50: \n",
    "    print('The number is below 50')\n",
    "elif A>=50 and A<60: \n",
    "    print('Error')\n",
    "else:\n",
    "    print('The number is invalid')"
   ]
  },
  {
   "cell_type": "code",
   "execution_count": 25,
   "id": "86c05d0c",
   "metadata": {},
   "outputs": [
    {
     "name": "stdout",
     "output_type": "stream",
     "text": [
      "Enter a number: 100\n",
      "Error\n"
     ]
    }
   ],
   "source": [
    "A=int(input('Enter a number: '))\n",
    "if A>=0 and A<25: \n",
    "    print('A')\n",
    "elif A>=25 and A<50:\n",
    "    print('B')\n",
    "elif A>=50 and A<=60:\n",
    "    print('C')\n",
    "else: \n",
    "    print('Error')"
   ]
  },
  {
   "cell_type": "code",
   "execution_count": 26,
   "id": "e0dd6b41",
   "metadata": {},
   "outputs": [
    {
     "data": {
      "text/plain": [
       "2"
      ]
     },
     "execution_count": 26,
     "metadata": {},
     "output_type": "execute_result"
    }
   ],
   "source": [
    "5%3"
   ]
  },
  {
   "cell_type": "code",
   "execution_count": 33,
   "id": "549d8c58",
   "metadata": {},
   "outputs": [
    {
     "name": "stdout",
     "output_type": "stream",
     "text": [
      "Enter a number: 22\n",
      "Even\n"
     ]
    }
   ],
   "source": [
    "##odd or even\n",
    "A=int(input('Enter a number: '))\n",
    "if A==0: \n",
    "    print('You entered 0')\n",
    "elif A%2==0:\n",
    "    print('Even')\n",
    "else:\n",
    "    print('Odd')"
   ]
  },
  {
   "cell_type": "code",
   "execution_count": null,
   "id": "15557048",
   "metadata": {},
   "outputs": [],
   "source": []
  }
 ],
 "metadata": {
  "kernelspec": {
   "display_name": "Python 3",
   "language": "python",
   "name": "python3"
  },
  "language_info": {
   "codemirror_mode": {
    "name": "ipython",
    "version": 3
   },
   "file_extension": ".py",
   "mimetype": "text/x-python",
   "name": "python",
   "nbconvert_exporter": "python",
   "pygments_lexer": "ipython3",
   "version": "3.8.8"
  }
 },
 "nbformat": 4,
 "nbformat_minor": 5
}
