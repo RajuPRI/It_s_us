{
 "cells": [
  {
   "cell_type": "code",
   "execution_count": 3,
   "id": "7f287531",
   "metadata": {},
   "outputs": [
    {
     "data": {
      "text/plain": [
       "7.499284701967143e+137"
      ]
     },
     "execution_count": 3,
     "metadata": {},
     "output_type": "execute_result"
    }
   ],
   "source": [
    "A=39.543\n",
    "B=86.33\n",
    "A**B"
   ]
  },
  {
   "cell_type": "code",
   "execution_count": 4,
   "id": "54fc0501",
   "metadata": {},
   "outputs": [],
   "source": [
    "C=A**B"
   ]
  },
  {
   "cell_type": "code",
   "execution_count": 4,
   "id": "0e1f8d35",
   "metadata": {},
   "outputs": [
    {
     "data": {
      "text/plain": [
       "7.499284701967143e+137"
      ]
     },
     "execution_count": 4,
     "metadata": {},
     "output_type": "execute_result"
    }
   ],
   "source": [
    "C"
   ]
  },
  {
   "cell_type": "code",
   "execution_count": 5,
   "id": "50bb14fc",
   "metadata": {},
   "outputs": [
    {
     "name": "stdout",
     "output_type": "stream",
     "text": [
      "Enter a value:6\n",
      "Enter another value:8\n",
      "Hypotenuse= 10.0\n"
     ]
    }
   ],
   "source": [
    "##pythogoras theorem\n",
    "A=int(input('Enter a value:'))\n",
    "B=int(input('Enter another value:'))\n",
    "C=int\n",
    "C=(A**2 + B**2)\n",
    "D=int\n",
    "D=C**0.5\n",
    "print('Hypotenuse=',D)"
   ]
  },
  {
   "cell_type": "code",
   "execution_count": 6,
   "id": "39c30e9c",
   "metadata": {},
   "outputs": [
    {
     "name": "stdout",
     "output_type": "stream",
     "text": [
      "Enter a value:12\n",
      "Enter another value:18\n",
      "Hypotenuse= 21.633307652783937\n"
     ]
    }
   ],
   "source": [
    "##pythogoras theorem\n",
    "A=int(input('Enter a value:'))\n",
    "B=int(input('Enter another value:'))\n",
    "C=int\n",
    "C=(A**2 + B**2)\n",
    "print('Hypotenuse=',C**0.5)"
   ]
  },
  {
   "cell_type": "code",
   "execution_count": 1,
   "id": "99763dfc",
   "metadata": {},
   "outputs": [
    {
     "name": "stdout",
     "output_type": "stream",
     "text": [
      "Enter your weight:64.5\n",
      "Enter your height:1.5\n",
      "Your bmi is  28.666666666666668\n"
     ]
    }
   ],
   "source": [
    "##bmi calculator. bmi=weight/height**2\n",
    "A=float(input('Enter your weight:'))\n",
    "B=float(input('Enter your height:'))\n",
    "C=float\n",
    "C=(A/B**2)\n",
    "print('Your bmi is ',C)"
   ]
  },
  {
   "cell_type": "code",
   "execution_count": null,
   "id": "626e07ff",
   "metadata": {},
   "outputs": [],
   "source": []
  }
 ],
 "metadata": {
  "kernelspec": {
   "display_name": "Python 3",
   "language": "python",
   "name": "python3"
  },
  "language_info": {
   "codemirror_mode": {
    "name": "ipython",
    "version": 3
   },
   "file_extension": ".py",
   "mimetype": "text/x-python",
   "name": "python",
   "nbconvert_exporter": "python",
   "pygments_lexer": "ipython3",
   "version": "3.8.8"
  }
 },
 "nbformat": 4,
 "nbformat_minor": 5
}
