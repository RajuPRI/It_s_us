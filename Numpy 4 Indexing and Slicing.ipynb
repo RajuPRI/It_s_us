{
 "cells": [
  {
   "cell_type": "code",
   "execution_count": 1,
   "id": "6b0ab7f8",
   "metadata": {},
   "outputs": [],
   "source": [
    "import numpy as np"
   ]
  },
  {
   "cell_type": "code",
   "execution_count": 3,
   "id": "c3dcc41d",
   "metadata": {},
   "outputs": [],
   "source": [
    "n_array_1=np.random.randint(1,30,8)"
   ]
  },
  {
   "cell_type": "code",
   "execution_count": 4,
   "id": "4d7b769e",
   "metadata": {},
   "outputs": [
    {
     "data": {
      "text/plain": [
       "array([27, 24, 26, 18, 20, 18, 22, 26])"
      ]
     },
     "execution_count": 4,
     "metadata": {},
     "output_type": "execute_result"
    }
   ],
   "source": [
    "n_array_1"
   ]
  },
  {
   "cell_type": "code",
   "execution_count": 5,
   "id": "4ee1e3d7",
   "metadata": {},
   "outputs": [
    {
     "data": {
      "text/plain": [
       "18"
      ]
     },
     "execution_count": 5,
     "metadata": {},
     "output_type": "execute_result"
    }
   ],
   "source": [
    "n_array_1[3]"
   ]
  },
  {
   "cell_type": "code",
   "execution_count": 6,
   "id": "92ff6803",
   "metadata": {},
   "outputs": [
    {
     "data": {
      "text/plain": [
       "array([26, 18, 20, 18, 22])"
      ]
     },
     "execution_count": 6,
     "metadata": {},
     "output_type": "execute_result"
    }
   ],
   "source": [
    "n_array_1[2:7]"
   ]
  },
  {
   "cell_type": "code",
   "execution_count": 7,
   "id": "32cca9e7",
   "metadata": {},
   "outputs": [
    {
     "data": {
      "text/plain": [
       "array([27, 24, 26])"
      ]
     },
     "execution_count": 7,
     "metadata": {},
     "output_type": "execute_result"
    }
   ],
   "source": [
    "n_array_1[:3]"
   ]
  },
  {
   "cell_type": "code",
   "execution_count": 8,
   "id": "f1700685",
   "metadata": {},
   "outputs": [],
   "source": [
    "n_array_2=np.arange(1,7)"
   ]
  },
  {
   "cell_type": "code",
   "execution_count": 9,
   "id": "fe7e330f",
   "metadata": {},
   "outputs": [
    {
     "data": {
      "text/plain": [
       "array([1, 2, 3, 4, 5, 6])"
      ]
     },
     "execution_count": 9,
     "metadata": {},
     "output_type": "execute_result"
    }
   ],
   "source": [
    "n_array_2"
   ]
  },
  {
   "cell_type": "code",
   "execution_count": 10,
   "id": "d55acee1",
   "metadata": {},
   "outputs": [],
   "source": [
    "n_array_2[:3]=7"
   ]
  },
  {
   "cell_type": "code",
   "execution_count": 11,
   "id": "23a3d6db",
   "metadata": {},
   "outputs": [
    {
     "data": {
      "text/plain": [
       "array([7, 7, 7, 4, 5, 6])"
      ]
     },
     "execution_count": 11,
     "metadata": {},
     "output_type": "execute_result"
    }
   ],
   "source": [
    "n_array_2"
   ]
  },
  {
   "cell_type": "code",
   "execution_count": 12,
   "id": "b58b614f",
   "metadata": {},
   "outputs": [],
   "source": [
    "n_array_3=np.random.randint(1,100,20)"
   ]
  },
  {
   "cell_type": "code",
   "execution_count": 13,
   "id": "cdc460bb",
   "metadata": {},
   "outputs": [
    {
     "data": {
      "text/plain": [
       "array([68, 94, 55, 28,  9, 35, 63, 65,  9, 44, 68, 10, 43,  2, 50, 90,  9,\n",
       "       52, 78,  6])"
      ]
     },
     "execution_count": 13,
     "metadata": {},
     "output_type": "execute_result"
    }
   ],
   "source": [
    "n_array_3"
   ]
  },
  {
   "cell_type": "code",
   "execution_count": 14,
   "id": "93fd1d78",
   "metadata": {},
   "outputs": [],
   "source": [
    "n_array_3=n_array_3.reshape(5,4)"
   ]
  },
  {
   "cell_type": "code",
   "execution_count": 15,
   "id": "bb4af3c8",
   "metadata": {},
   "outputs": [
    {
     "data": {
      "text/plain": [
       "array([[68, 94, 55, 28],\n",
       "       [ 9, 35, 63, 65],\n",
       "       [ 9, 44, 68, 10],\n",
       "       [43,  2, 50, 90],\n",
       "       [ 9, 52, 78,  6]])"
      ]
     },
     "execution_count": 15,
     "metadata": {},
     "output_type": "execute_result"
    }
   ],
   "source": [
    "n_array_3"
   ]
  },
  {
   "cell_type": "code",
   "execution_count": 16,
   "id": "d6a5aeb4",
   "metadata": {},
   "outputs": [
    {
     "data": {
      "text/plain": [
       "array([ 9, 52, 78,  6])"
      ]
     },
     "execution_count": 16,
     "metadata": {},
     "output_type": "execute_result"
    }
   ],
   "source": [
    "n_array_3[4]"
   ]
  },
  {
   "cell_type": "code",
   "execution_count": 17,
   "id": "cd7fb943",
   "metadata": {},
   "outputs": [
    {
     "data": {
      "text/plain": [
       "43"
      ]
     },
     "execution_count": 17,
     "metadata": {},
     "output_type": "execute_result"
    }
   ],
   "source": [
    "n_array_3[3,0]"
   ]
  },
  {
   "cell_type": "code",
   "execution_count": 18,
   "id": "6972e975",
   "metadata": {},
   "outputs": [
    {
     "data": {
      "text/plain": [
       "array([[68, 94, 55, 28],\n",
       "       [ 9, 35, 63, 65]])"
      ]
     },
     "execution_count": 18,
     "metadata": {},
     "output_type": "execute_result"
    }
   ],
   "source": [
    "n_array_3[:2]"
   ]
  },
  {
   "cell_type": "code",
   "execution_count": 20,
   "id": "6260ffc8",
   "metadata": {},
   "outputs": [
    {
     "data": {
      "text/plain": [
       "array([[55, 28],\n",
       "       [63, 65],\n",
       "       [68, 10],\n",
       "       [50, 90],\n",
       "       [78,  6]])"
      ]
     },
     "execution_count": 20,
     "metadata": {},
     "output_type": "execute_result"
    }
   ],
   "source": [
    "n_array_3[:,2:4]"
   ]
  },
  {
   "cell_type": "code",
   "execution_count": 21,
   "id": "92478f14",
   "metadata": {},
   "outputs": [
    {
     "data": {
      "text/plain": [
       "array([[55, 28],\n",
       "       [63, 65],\n",
       "       [68, 10],\n",
       "       [50, 90],\n",
       "       [78,  6]])"
      ]
     },
     "execution_count": 21,
     "metadata": {},
     "output_type": "execute_result"
    }
   ],
   "source": [
    "n_array_3[:,(2,3)]"
   ]
  },
  {
   "cell_type": "code",
   "execution_count": 22,
   "id": "ce0daef0",
   "metadata": {},
   "outputs": [],
   "source": [
    "n_array_4=np.arange(1,7)"
   ]
  },
  {
   "cell_type": "code",
   "execution_count": 23,
   "id": "acd4a7e2",
   "metadata": {},
   "outputs": [
    {
     "data": {
      "text/plain": [
       "array([1, 2, 3, 4, 5, 6])"
      ]
     },
     "execution_count": 23,
     "metadata": {},
     "output_type": "execute_result"
    }
   ],
   "source": [
    "n_array_4"
   ]
  },
  {
   "cell_type": "code",
   "execution_count": 24,
   "id": "5665ddb5",
   "metadata": {},
   "outputs": [],
   "source": [
    "n_array_4_SC=n_array_4.view()"
   ]
  },
  {
   "cell_type": "code",
   "execution_count": 25,
   "id": "e9db8541",
   "metadata": {},
   "outputs": [
    {
     "data": {
      "text/plain": [
       "array([1, 2, 3, 4, 5, 6])"
      ]
     },
     "execution_count": 25,
     "metadata": {},
     "output_type": "execute_result"
    }
   ],
   "source": [
    "n_array_4_SC"
   ]
  },
  {
   "cell_type": "code",
   "execution_count": 26,
   "id": "31dd9993",
   "metadata": {},
   "outputs": [],
   "source": [
    "n_array_4[3]*=7"
   ]
  },
  {
   "cell_type": "code",
   "execution_count": 27,
   "id": "037acd5e",
   "metadata": {},
   "outputs": [
    {
     "data": {
      "text/plain": [
       "array([ 1,  2,  3, 28,  5,  6])"
      ]
     },
     "execution_count": 27,
     "metadata": {},
     "output_type": "execute_result"
    }
   ],
   "source": [
    "n_array_4"
   ]
  },
  {
   "cell_type": "code",
   "execution_count": 28,
   "id": "07b88726",
   "metadata": {},
   "outputs": [
    {
     "data": {
      "text/plain": [
       "array([ 1,  2,  3, 28,  5,  6])"
      ]
     },
     "execution_count": 28,
     "metadata": {},
     "output_type": "execute_result"
    }
   ],
   "source": [
    "n_array_4_SC"
   ]
  },
  {
   "cell_type": "code",
   "execution_count": 29,
   "id": "b22e5a89",
   "metadata": {},
   "outputs": [],
   "source": [
    "n_array_4_SC[2]+=5"
   ]
  },
  {
   "cell_type": "code",
   "execution_count": 30,
   "id": "15747362",
   "metadata": {},
   "outputs": [
    {
     "data": {
      "text/plain": [
       "array([ 1,  2,  8, 28,  5,  6])"
      ]
     },
     "execution_count": 30,
     "metadata": {},
     "output_type": "execute_result"
    }
   ],
   "source": [
    "n_array_4_SC"
   ]
  },
  {
   "cell_type": "code",
   "execution_count": 31,
   "id": "151b4ef0",
   "metadata": {},
   "outputs": [
    {
     "data": {
      "text/plain": [
       "array([ 1,  2,  8, 28,  5,  6])"
      ]
     },
     "execution_count": 31,
     "metadata": {},
     "output_type": "execute_result"
    }
   ],
   "source": [
    "n_array_4"
   ]
  },
  {
   "cell_type": "code",
   "execution_count": 32,
   "id": "d8ede6f0",
   "metadata": {},
   "outputs": [],
   "source": [
    "n_array_4_DC=n_array_4.copy()"
   ]
  },
  {
   "cell_type": "code",
   "execution_count": 33,
   "id": "045d1ade",
   "metadata": {},
   "outputs": [
    {
     "data": {
      "text/plain": [
       "array([ 1,  2,  8, 28,  5,  6])"
      ]
     },
     "execution_count": 33,
     "metadata": {},
     "output_type": "execute_result"
    }
   ],
   "source": [
    "n_array_4_DC"
   ]
  },
  {
   "cell_type": "code",
   "execution_count": 34,
   "id": "4dbf81fc",
   "metadata": {},
   "outputs": [],
   "source": [
    "n_array_4_DC[1]=-5"
   ]
  },
  {
   "cell_type": "code",
   "execution_count": 35,
   "id": "65df87ef",
   "metadata": {},
   "outputs": [
    {
     "data": {
      "text/plain": [
       "array([ 1, -5,  8, 28,  5,  6])"
      ]
     },
     "execution_count": 35,
     "metadata": {},
     "output_type": "execute_result"
    }
   ],
   "source": [
    "n_array_4_DC"
   ]
  },
  {
   "cell_type": "code",
   "execution_count": 36,
   "id": "506e1c3d",
   "metadata": {},
   "outputs": [
    {
     "data": {
      "text/plain": [
       "array([ 1,  2,  8, 28,  5,  6])"
      ]
     },
     "execution_count": 36,
     "metadata": {},
     "output_type": "execute_result"
    }
   ],
   "source": [
    "n_array_4"
   ]
  },
  {
   "cell_type": "code",
   "execution_count": 37,
   "id": "f332478d",
   "metadata": {},
   "outputs": [
    {
     "data": {
      "text/plain": [
       "array([ 1,  2,  8, 28,  5,  6])"
      ]
     },
     "execution_count": 37,
     "metadata": {},
     "output_type": "execute_result"
    }
   ],
   "source": [
    "n_array_4_SC"
   ]
  },
  {
   "cell_type": "code",
   "execution_count": null,
   "id": "76b44292",
   "metadata": {},
   "outputs": [],
   "source": []
  }
 ],
 "metadata": {
  "kernelspec": {
   "display_name": "Python 3",
   "language": "python",
   "name": "python3"
  },
  "language_info": {
   "codemirror_mode": {
    "name": "ipython",
    "version": 3
   },
   "file_extension": ".py",
   "mimetype": "text/x-python",
   "name": "python",
   "nbconvert_exporter": "python",
   "pygments_lexer": "ipython3",
   "version": "3.8.8"
  }
 },
 "nbformat": 4,
 "nbformat_minor": 5
}
