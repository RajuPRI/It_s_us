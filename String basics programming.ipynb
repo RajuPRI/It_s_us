{
 "cells": [
  {
   "cell_type": "code",
   "execution_count": 2,
   "id": "fe11bc58",
   "metadata": {},
   "outputs": [
    {
     "name": "stdout",
     "output_type": "stream",
     "text": [
      "K : 1\n",
      "o : 1\n",
      "l : 2\n",
      "k : 1\n",
      "a : 3\n",
      "t : 2\n",
      "  : 3\n",
      "i : 2\n",
      "s : 1\n",
      "v : 1\n",
      "e : 2\n",
      "r : 1\n",
      "y : 1\n",
      "b : 1\n",
      "u : 2\n",
      "f : 1\n"
     ]
    }
   ],
   "source": [
    "A='Kolkata is very beautiful'\n",
    "B=dict()\n",
    "for char in A:\n",
    "    if char in B:\n",
    "        B[char]+=1\n",
    "    else:\n",
    "        B[char]=1\n",
    "for letter, count in B.items():\n",
    "    print(letter, ':', count)"
   ]
  },
  {
   "cell_type": "code",
   "execution_count": 3,
   "id": "f644b6ef",
   "metadata": {},
   "outputs": [
    {
     "name": "stdout",
     "output_type": "stream",
     "text": [
      "Write a statement: I am good\n",
      "I : 1\n",
      "  : 2\n",
      "a : 1\n",
      "m : 1\n",
      "g : 1\n",
      "o : 2\n",
      "d : 1\n"
     ]
    }
   ],
   "source": [
    "A=str(input('Write a statement: '))\n",
    "B=dict()\n",
    "for char in A:\n",
    "    if char in B:\n",
    "        B[char]+=1\n",
    "    else:\n",
    "        B[char]=1\n",
    "for letter, count in B.items():\n",
    "    print(letter, ':', count)"
   ]
  },
  {
   "cell_type": "code",
   "execution_count": 7,
   "id": "9879a942",
   "metadata": {},
   "outputs": [
    {
     "name": "stdout",
     "output_type": "stream",
     "text": [
      "T : 2\n",
      "h : 35\n",
      "e : 62\n",
      "  : 109\n",
      "F : 1\n",
      "r : 21\n",
      "n : 35\n",
      "c : 14\n",
      "a : 34\n",
      "t : 51\n",
      "i : 36\n",
      "l : 19\n",
      "y : 14\n",
      "m : 10\n",
      "s : 28\n",
      "u : 14\n",
      "d : 14\n",
      "o : 34\n",
      ": : 1\n",
      "— : 3\n",
      "b : 7\n",
      "w : 13\n",
      "f : 8\n",
      ", : 10\n",
      "x : 3\n",
      "p : 7\n",
      "g : 8\n",
      "v : 7\n",
      "k : 4\n",
      "“ : 2\n",
      "” : 2\n",
      "I : 1\n",
      "; : 1\n",
      "‘ : 1\n",
      "P : 1\n",
      "- : 1\n",
      ". : 1\n"
     ]
    }
   ],
   "source": [
    "A='The French are certainly misunderstood: — but whether the fault is theirs, in not sufficiently explaining themselves, or speaking with that exact limitation and precision which one would expect on a point of such importance, and which, moreover, is so likely to be contested by us — or whether the fault may not be altogether on our side, in not understanding their language always so critically as to know “what they would be at” — I shall not decide; but ‘tis evident to me, when they affirm, “That they who have seen Paris, have seen every thing,” they must mean to speak of those who have seen it by day-light.'\n",
    "words=A.split()\n",
    "wordC=dict()\n",
    "for word in A:\n",
    "    if word in wordC:\n",
    "        wordC[word]+=1\n",
    "    else:\n",
    "        wordC[word]=1\n",
    "for word, count in wordC.items():\n",
    "    print(word, ':', count)\n"
   ]
  },
  {
   "cell_type": "code",
   "execution_count": 9,
   "id": "08822a00",
   "metadata": {},
   "outputs": [
    {
     "name": "stdout",
     "output_type": "stream",
     "text": [
      "The : 1\n",
      "French : 1\n",
      "are : 1\n",
      "certainly : 1\n",
      "misunderstood: : 1\n",
      "— : 3\n",
      "but : 2\n",
      "whether : 2\n",
      "the : 2\n",
      "fault : 2\n",
      "is : 2\n",
      "theirs, : 1\n",
      "in : 2\n",
      "not : 4\n",
      "sufficiently : 1\n",
      "explaining : 1\n",
      "themselves, : 1\n",
      "or : 2\n",
      "speaking : 1\n",
      "with : 1\n",
      "that : 1\n",
      "exact : 1\n",
      "limitation : 1\n",
      "and : 2\n",
      "precision : 1\n",
      "which : 1\n",
      "one : 1\n",
      "would : 2\n",
      "expect : 1\n",
      "on : 2\n",
      "a : 1\n",
      "point : 1\n",
      "of : 2\n",
      "such : 1\n",
      "importance, : 1\n",
      "which, : 1\n",
      "moreover, : 1\n",
      "so : 2\n",
      "likely : 1\n",
      "to : 4\n",
      "be : 3\n",
      "contested : 1\n",
      "by : 2\n",
      "us : 1\n",
      "may : 1\n",
      "altogether : 1\n",
      "our : 1\n",
      "side, : 1\n",
      "understanding : 1\n",
      "their : 1\n",
      "language : 1\n",
      "always : 1\n",
      "critically : 1\n",
      "as : 1\n",
      "know : 1\n",
      "“what : 1\n",
      "they : 4\n",
      "at” : 1\n",
      "I : 1\n",
      "shall : 1\n",
      "decide; : 1\n",
      "‘tis : 1\n",
      "evident : 1\n",
      "me, : 1\n",
      "when : 1\n",
      "affirm, : 1\n",
      "“That : 1\n",
      "who : 2\n",
      "have : 3\n",
      "seen : 3\n",
      "Paris, : 1\n",
      "every : 1\n",
      "thing,” : 1\n",
      "must : 1\n",
      "mean : 1\n",
      "speak : 1\n",
      "those : 1\n",
      "it : 1\n",
      "day-light. : 1\n"
     ]
    }
   ],
   "source": [
    "Context='The French are certainly misunderstood: — but whether the fault is theirs, in not sufficiently explaining themselves, or speaking with that exact limitation and precision which one would expect on a point of such importance, and which, moreover, is so likely to be contested by us — or whether the fault may not be altogether on our side, in not understanding their language always so critically as to know “what they would be at” — I shall not decide; but ‘tis evident to me, when they affirm, “That they who have seen Paris, have seen every thing,” they must mean to speak of those who have seen it by day-light.'\n",
    "Words = Context.split()\n",
    "\n",
    "WordCount = dict()\n",
    "\n",
    "for word in Words:\n",
    "    if word in WordCount:\n",
    "        WordCount[word] += 1\n",
    "    else:\n",
    "        WordCount[word] = 1\n",
    "for word, count in WordCount.items():\n",
    "        print(word, \":\", count)"
   ]
  },
  {
   "cell_type": "code",
   "execution_count": null,
   "id": "d74255f2",
   "metadata": {},
   "outputs": [],
   "source": []
  }
 ],
 "metadata": {
  "kernelspec": {
   "display_name": "Python 3",
   "language": "python",
   "name": "python3"
  },
  "language_info": {
   "codemirror_mode": {
    "name": "ipython",
    "version": 3
   },
   "file_extension": ".py",
   "mimetype": "text/x-python",
   "name": "python",
   "nbconvert_exporter": "python",
   "pygments_lexer": "ipython3",
   "version": "3.8.8"
  }
 },
 "nbformat": 4,
 "nbformat_minor": 5
}
