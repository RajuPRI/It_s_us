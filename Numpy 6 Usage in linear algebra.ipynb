{
 "cells": [
  {
   "cell_type": "code",
   "execution_count": 1,
   "id": "903e7de4",
   "metadata": {},
   "outputs": [],
   "source": [
    "import numpy as np"
   ]
  },
  {
   "cell_type": "code",
   "execution_count": 2,
   "id": "383e4582",
   "metadata": {},
   "outputs": [],
   "source": [
    "vector_1=np.array([1,2,3,4,5,6,7,8,9,10])"
   ]
  },
  {
   "cell_type": "code",
   "execution_count": 3,
   "id": "a1961219",
   "metadata": {},
   "outputs": [
    {
     "data": {
      "text/plain": [
       "array([ 1,  2,  3,  4,  5,  6,  7,  8,  9, 10])"
      ]
     },
     "execution_count": 3,
     "metadata": {},
     "output_type": "execute_result"
    }
   ],
   "source": [
    "vector_1"
   ]
  },
  {
   "cell_type": "code",
   "execution_count": 4,
   "id": "9b725da2",
   "metadata": {},
   "outputs": [
    {
     "data": {
      "text/plain": [
       "array([ 2,  4,  6,  8, 10, 12, 14, 16, 18, 20])"
      ]
     },
     "execution_count": 4,
     "metadata": {},
     "output_type": "execute_result"
    }
   ],
   "source": [
    "vector_1*2"
   ]
  },
  {
   "cell_type": "code",
   "execution_count": 5,
   "id": "73c50787",
   "metadata": {},
   "outputs": [
    {
     "data": {
      "text/plain": [
       "array([ 6,  7,  8,  9, 10, 11, 12, 13, 14, 15])"
      ]
     },
     "execution_count": 5,
     "metadata": {},
     "output_type": "execute_result"
    }
   ],
   "source": [
    "vector_1+5"
   ]
  },
  {
   "cell_type": "code",
   "execution_count": 6,
   "id": "a5870d6a",
   "metadata": {},
   "outputs": [
    {
     "data": {
      "text/plain": [
       "array([ 2,  1,  3,  4,  5,  7,  8,  6, 10,  9])"
      ]
     },
     "execution_count": 6,
     "metadata": {},
     "output_type": "execute_result"
    }
   ],
   "source": [
    "vector_2=np.array([2,1,3,4,5,7,8,6,10,9])\n",
    "vector_2"
   ]
  },
  {
   "cell_type": "code",
   "execution_count": 7,
   "id": "d83ebd8b",
   "metadata": {},
   "outputs": [
    {
     "data": {
      "text/plain": [
       "array([ 3,  3,  6,  8, 10, 13, 15, 14, 19, 19])"
      ]
     },
     "execution_count": 7,
     "metadata": {},
     "output_type": "execute_result"
    }
   ],
   "source": [
    "vector_1+vector_2"
   ]
  },
  {
   "cell_type": "code",
   "execution_count": 5,
   "id": "df793e3b",
   "metadata": {},
   "outputs": [],
   "source": [
    "matrix_1=np.random.randint(1,100,25).reshape(5,5)"
   ]
  },
  {
   "cell_type": "code",
   "execution_count": 6,
   "id": "b35ef36f",
   "metadata": {},
   "outputs": [
    {
     "data": {
      "text/plain": [
       "array([[89, 40, 89, 12, 81],\n",
       "       [91, 70, 60, 48, 49],\n",
       "       [17, 98, 15, 47, 60],\n",
       "       [51, 25, 33, 22, 88],\n",
       "       [20, 52, 44, 40, 38]])"
      ]
     },
     "execution_count": 6,
     "metadata": {},
     "output_type": "execute_result"
    }
   ],
   "source": [
    "matrix_1"
   ]
  },
  {
   "cell_type": "code",
   "execution_count": 7,
   "id": "8ad3940c",
   "metadata": {},
   "outputs": [
    {
     "data": {
      "text/plain": [
       "array([[ 94,  45,  94,  17,  86],\n",
       "       [ 96,  75,  65,  53,  54],\n",
       "       [ 22, 103,  20,  52,  65],\n",
       "       [ 56,  30,  38,  27,  93],\n",
       "       [ 25,  57,  49,  45,  43]])"
      ]
     },
     "execution_count": 7,
     "metadata": {},
     "output_type": "execute_result"
    }
   ],
   "source": [
    "matrix_1+5"
   ]
  },
  {
   "cell_type": "code",
   "execution_count": 8,
   "id": "f9860d2f",
   "metadata": {},
   "outputs": [
    {
     "data": {
      "text/plain": [
       "array([[267, 120, 267,  36, 243],\n",
       "       [273, 210, 180, 144, 147],\n",
       "       [ 51, 294,  45, 141, 180],\n",
       "       [153,  75,  99,  66, 264],\n",
       "       [ 60, 156, 132, 120, 114]])"
      ]
     },
     "execution_count": 8,
     "metadata": {},
     "output_type": "execute_result"
    }
   ],
   "source": [
    "matrix_1*3"
   ]
  },
  {
   "cell_type": "code",
   "execution_count": 9,
   "id": "4227ce27",
   "metadata": {},
   "outputs": [
    {
     "data": {
      "text/plain": [
       "array([[[61, 65, 22, 44, 80],\n",
       "        [59, 93, 48, 29, 50],\n",
       "        [62, 74, 23, 85, 15]],\n",
       "\n",
       "       [[26,  2, 99, 50, 13],\n",
       "        [69, 85, 91, 68,  9],\n",
       "        [95, 68, 10, 83,  1]],\n",
       "\n",
       "       [[30, 16, 49, 25, 54],\n",
       "        [52, 44, 74, 19,  5],\n",
       "        [98, 94, 10, 72, 32]]])"
      ]
     },
     "execution_count": 9,
     "metadata": {},
     "output_type": "execute_result"
    }
   ],
   "source": [
    "tensor_1=np.random.randint(1,100,45).reshape(3,3,5)\n",
    "tensor_1"
   ]
  },
  {
   "cell_type": "code",
   "execution_count": 13,
   "id": "41edf934",
   "metadata": {},
   "outputs": [
    {
     "name": "stdout",
     "output_type": "stream",
     "text": [
      "(10,)\n"
     ]
    }
   ],
   "source": [
    "print(vector_1.shape)"
   ]
  },
  {
   "cell_type": "code",
   "execution_count": 14,
   "id": "62b1093f",
   "metadata": {},
   "outputs": [
    {
     "name": "stdout",
     "output_type": "stream",
     "text": [
      "(5, 5)\n"
     ]
    }
   ],
   "source": [
    "print(matrix_1.shape)"
   ]
  },
  {
   "cell_type": "code",
   "execution_count": 16,
   "id": "354bbff3",
   "metadata": {},
   "outputs": [
    {
     "name": "stdout",
     "output_type": "stream",
     "text": [
      "(3, 3, 5)\n"
     ]
    }
   ],
   "source": [
    "print(tensor_1.shape)"
   ]
  },
  {
   "cell_type": "code",
   "execution_count": 17,
   "id": "a75f038f",
   "metadata": {},
   "outputs": [
    {
     "name": "stdout",
     "output_type": "stream",
     "text": [
      "10\n"
     ]
    }
   ],
   "source": [
    "print(vector_1.size)"
   ]
  },
  {
   "cell_type": "code",
   "execution_count": 18,
   "id": "c1f1f535",
   "metadata": {},
   "outputs": [
    {
     "name": "stdout",
     "output_type": "stream",
     "text": [
      "25\n"
     ]
    }
   ],
   "source": [
    "print(matrix_1.size)"
   ]
  },
  {
   "cell_type": "code",
   "execution_count": 19,
   "id": "c189cc9a",
   "metadata": {},
   "outputs": [
    {
     "name": "stdout",
     "output_type": "stream",
     "text": [
      "45\n"
     ]
    }
   ],
   "source": [
    "print(tensor_1.size)"
   ]
  },
  {
   "cell_type": "code",
   "execution_count": 20,
   "id": "158122d8",
   "metadata": {},
   "outputs": [
    {
     "data": {
      "text/plain": [
       "380"
      ]
     },
     "execution_count": 20,
     "metadata": {},
     "output_type": "execute_result"
    }
   ],
   "source": [
    "vector_1.dot(vector_2)"
   ]
  },
  {
   "cell_type": "code",
   "execution_count": 21,
   "id": "3fb29118",
   "metadata": {},
   "outputs": [
    {
     "data": {
      "text/plain": [
       "array([[5, 4],\n",
       "       [5, 1]])"
      ]
     },
     "execution_count": 21,
     "metadata": {},
     "output_type": "execute_result"
    }
   ],
   "source": [
    "matrix_a=np.random.randint(10,size=(2,2))\n",
    "matrix_a"
   ]
  },
  {
   "cell_type": "code",
   "execution_count": 22,
   "id": "167b2fcd",
   "metadata": {},
   "outputs": [],
   "source": [
    "matrix_b=np.matrix(np.random.randint(10,size=(2,2)))"
   ]
  },
  {
   "cell_type": "code",
   "execution_count": 23,
   "id": "87de7bff",
   "metadata": {},
   "outputs": [
    {
     "data": {
      "text/plain": [
       "matrix([[3, 9],\n",
       "        [5, 4]])"
      ]
     },
     "execution_count": 23,
     "metadata": {},
     "output_type": "execute_result"
    }
   ],
   "source": [
    "matrix_b"
   ]
  },
  {
   "cell_type": "code",
   "execution_count": 24,
   "id": "99c05386",
   "metadata": {},
   "outputs": [
    {
     "data": {
      "text/plain": [
       "5"
      ]
     },
     "execution_count": 24,
     "metadata": {},
     "output_type": "execute_result"
    }
   ],
   "source": [
    "matrix_a[0,0]"
   ]
  },
  {
   "cell_type": "code",
   "execution_count": 25,
   "id": "5166cc70",
   "metadata": {},
   "outputs": [
    {
     "data": {
      "text/plain": [
       "array([5, 4])"
      ]
     },
     "execution_count": 25,
     "metadata": {},
     "output_type": "execute_result"
    }
   ],
   "source": [
    "matrix_a[0]"
   ]
  },
  {
   "cell_type": "code",
   "execution_count": 27,
   "id": "99b160f6",
   "metadata": {},
   "outputs": [
    {
     "data": {
      "text/plain": [
       "array([5, 5])"
      ]
     },
     "execution_count": 27,
     "metadata": {},
     "output_type": "execute_result"
    }
   ],
   "source": [
    "matrix_a[:,0]"
   ]
  },
  {
   "cell_type": "code",
   "execution_count": 28,
   "id": "9e0bab44",
   "metadata": {},
   "outputs": [
    {
     "data": {
      "text/plain": [
       "matrix([[35, 61],\n",
       "        [20, 49]])"
      ]
     },
     "execution_count": 28,
     "metadata": {},
     "output_type": "execute_result"
    }
   ],
   "source": [
    "matrix_c=matrix_a.dot(matrix_b)\n",
    "matrix_c"
   ]
  },
  {
   "cell_type": "code",
   "execution_count": 29,
   "id": "b2f8a05d",
   "metadata": {},
   "outputs": [
    {
     "data": {
      "text/plain": [
       "array([[5, 4],\n",
       "       [5, 1]])"
      ]
     },
     "execution_count": 29,
     "metadata": {},
     "output_type": "execute_result"
    }
   ],
   "source": [
    "matrix_a"
   ]
  },
  {
   "cell_type": "code",
   "execution_count": 30,
   "id": "4fbcb205",
   "metadata": {},
   "outputs": [
    {
     "data": {
      "text/plain": [
       "matrix([[3, 9],\n",
       "        [5, 4]])"
      ]
     },
     "execution_count": 30,
     "metadata": {},
     "output_type": "execute_result"
    }
   ],
   "source": [
    "matrix_b"
   ]
  },
  {
   "cell_type": "code",
   "execution_count": 17,
   "id": "78bc2a60",
   "metadata": {},
   "outputs": [
    {
     "data": {
      "text/plain": [
       "array([[1, 0, 0, 0],\n",
       "       [0, 1, 0, 0],\n",
       "       [0, 0, 1, 0],\n",
       "       [0, 0, 0, 1]])"
      ]
     },
     "execution_count": 17,
     "metadata": {},
     "output_type": "execute_result"
    }
   ],
   "source": [
    "np.identity(4).astype(int)"
   ]
  },
  {
   "cell_type": "code",
   "execution_count": 33,
   "id": "76297c1c",
   "metadata": {},
   "outputs": [
    {
     "data": {
      "text/plain": [
       "array([[5, 9, 5, 4],\n",
       "       [0, 2, 1, 5],\n",
       "       [0, 9, 8, 6],\n",
       "       [8, 5, 4, 3]])"
      ]
     },
     "execution_count": 33,
     "metadata": {},
     "output_type": "execute_result"
    }
   ],
   "source": [
    "matrix_d=np.random.randint(10,size=(4,4))\n",
    "matrix_d"
   ]
  },
  {
   "cell_type": "code",
   "execution_count": 35,
   "id": "37c7b551",
   "metadata": {},
   "outputs": [
    {
     "data": {
      "text/plain": [
       "array([[5., 9., 5., 4.],\n",
       "       [0., 2., 1., 5.],\n",
       "       [0., 9., 8., 6.],\n",
       "       [8., 5., 4., 3.]])"
      ]
     },
     "execution_count": 35,
     "metadata": {},
     "output_type": "execute_result"
    }
   ],
   "source": [
    "np.dot(matrix_d,np.identity(4))"
   ]
  },
  {
   "cell_type": "code",
   "execution_count": 36,
   "id": "98e1da83",
   "metadata": {},
   "outputs": [
    {
     "data": {
      "text/plain": [
       "array([[-0.02075702,  0.001221  , -0.05616606,  0.13797314],\n",
       "       [ 0.33211233, -0.01953602, -0.1013431 , -0.20757021],\n",
       "       [-0.32234432, -0.15750916,  0.24542125,  0.2014652 ],\n",
       "       [-0.06837607,  0.23931624, -0.00854701,  0.04273504]])"
      ]
     },
     "execution_count": 36,
     "metadata": {},
     "output_type": "execute_result"
    }
   ],
   "source": [
    "matrix_e=np.linalg.inv(matrix_d)    ##INVERSE\n",
    "matrix_e"
   ]
  },
  {
   "cell_type": "code",
   "execution_count": 37,
   "id": "69a9ce3f",
   "metadata": {},
   "outputs": [
    {
     "data": {
      "text/plain": [
       "array([[ 1.00000000e+00,  1.11022302e-16,  1.11022302e-16,\n",
       "         2.22044605e-16],\n",
       "       [ 5.55111512e-17,  1.00000000e+00, -2.77555756e-17,\n",
       "        -5.55111512e-17],\n",
       "       [ 0.00000000e+00,  0.00000000e+00,  1.00000000e+00,\n",
       "         0.00000000e+00],\n",
       "       [ 0.00000000e+00,  0.00000000e+00, -1.11022302e-16,\n",
       "         1.00000000e+00]])"
      ]
     },
     "execution_count": 37,
     "metadata": {},
     "output_type": "execute_result"
    }
   ],
   "source": [
    "np.dot(matrix_d,matrix_e)"
   ]
  },
  {
   "cell_type": "code",
   "execution_count": 38,
   "id": "729a28bb",
   "metadata": {},
   "outputs": [
    {
     "data": {
      "text/plain": [
       "array([[4, 5, 9, 0],\n",
       "       [0, 3, 7, 2],\n",
       "       [8, 6, 2, 8]])"
      ]
     },
     "execution_count": 38,
     "metadata": {},
     "output_type": "execute_result"
    }
   ],
   "source": [
    "matrix_f=np.random.randint(10,size=(3,4))\n",
    "matrix_f"
   ]
  },
  {
   "cell_type": "code",
   "execution_count": 39,
   "id": "b49ad29e",
   "metadata": {},
   "outputs": [
    {
     "data": {
      "text/plain": [
       "array([[9, 0, 7],\n",
       "       [5, 9, 8],\n",
       "       [4, 0, 5],\n",
       "       [7, 3, 8]])"
      ]
     },
     "execution_count": 39,
     "metadata": {},
     "output_type": "execute_result"
    }
   ],
   "source": [
    "matrix_g=np.random.randint(10,size=(4,3))\n",
    "matrix_g"
   ]
  },
  {
   "cell_type": "code",
   "execution_count": 40,
   "id": "e3c6d370",
   "metadata": {},
   "outputs": [
    {
     "data": {
      "text/plain": [
       "array([[ 97,  45, 113],\n",
       "       [ 57,  33,  75],\n",
       "       [166,  78, 178]])"
      ]
     },
     "execution_count": 40,
     "metadata": {},
     "output_type": "execute_result"
    }
   ],
   "source": [
    "np.dot(matrix_f,matrix_g)"
   ]
  },
  {
   "cell_type": "code",
   "execution_count": 41,
   "id": "4a15525b",
   "metadata": {},
   "outputs": [
    {
     "data": {
      "text/plain": [
       "array([[ 92,  87,  95,  56],\n",
       "       [ 84, 100, 124,  82],\n",
       "       [ 56,  50,  46,  40],\n",
       "       [ 92,  92, 100,  70]])"
      ]
     },
     "execution_count": 41,
     "metadata": {},
     "output_type": "execute_result"
    }
   ],
   "source": [
    "np.dot(matrix_g,matrix_f)"
   ]
  },
  {
   "cell_type": "code",
   "execution_count": 42,
   "id": "3f53084f",
   "metadata": {},
   "outputs": [
    {
     "data": {
      "text/plain": [
       "array([10, 14,  1, 11])"
      ]
     },
     "execution_count": 42,
     "metadata": {},
     "output_type": "execute_result"
    }
   ],
   "source": [
    "vector_3=np.random.randint(1,15,4)\n",
    "vector_3"
   ]
  },
  {
   "cell_type": "code",
   "execution_count": 44,
   "id": "99b954e1",
   "metadata": {},
   "outputs": [
    {
     "data": {
      "text/plain": [
       "122"
      ]
     },
     "execution_count": 44,
     "metadata": {},
     "output_type": "execute_result"
    }
   ],
   "source": [
    "np.vdot(vector_3,matrix_a)"
   ]
  },
  {
   "cell_type": "code",
   "execution_count": 45,
   "id": "60a3f208",
   "metadata": {},
   "outputs": [
    {
     "data": {
      "text/plain": [
       "array([[5, 4],\n",
       "       [5, 1]])"
      ]
     },
     "execution_count": 45,
     "metadata": {},
     "output_type": "execute_result"
    }
   ],
   "source": [
    "matrix_a"
   ]
  },
  {
   "cell_type": "code",
   "execution_count": 46,
   "id": "cc857eef",
   "metadata": {},
   "outputs": [
    {
     "data": {
      "text/plain": [
       "matrix([[3, 9],\n",
       "        [5, 4]])"
      ]
     },
     "execution_count": 46,
     "metadata": {},
     "output_type": "execute_result"
    }
   ],
   "source": [
    "matrix_b"
   ]
  },
  {
   "cell_type": "code",
   "execution_count": 47,
   "id": "e8747e24",
   "metadata": {},
   "outputs": [
    {
     "data": {
      "text/plain": [
       "matrix([[35, 61],\n",
       "        [20, 49]])"
      ]
     },
     "execution_count": 47,
     "metadata": {},
     "output_type": "execute_result"
    }
   ],
   "source": [
    "np.matmul(matrix_a,matrix_b)"
   ]
  },
  {
   "cell_type": "code",
   "execution_count": 48,
   "id": "beaf6eb9",
   "metadata": {},
   "outputs": [
    {
     "data": {
      "text/plain": [
       "matrix([[3, 7],\n",
       "        [5, 1]])"
      ]
     },
     "execution_count": 48,
     "metadata": {},
     "output_type": "execute_result"
    }
   ],
   "source": [
    "matrix_det=np.matrix(np.random.randint(10,size=(2,2)))\n",
    "matrix_det"
   ]
  },
  {
   "cell_type": "code",
   "execution_count": 49,
   "id": "1b64ad47",
   "metadata": {},
   "outputs": [
    {
     "data": {
      "text/plain": [
       "-32.0"
      ]
     },
     "execution_count": 49,
     "metadata": {},
     "output_type": "execute_result"
    }
   ],
   "source": [
    "np.linalg.det(matrix_det)   ##Determinant"
   ]
  },
  {
   "cell_type": "code",
   "execution_count": 11,
   "id": "c4af7305",
   "metadata": {},
   "outputs": [],
   "source": [
    "m1 = np.random.randint(1,10,6).reshape(2,3)\n",
    "m2 = np.random.randint(1,20,6).reshape(3,2)"
   ]
  },
  {
   "cell_type": "code",
   "execution_count": 13,
   "id": "726a0760",
   "metadata": {},
   "outputs": [
    {
     "data": {
      "text/plain": [
       "array([[3, 9, 7],\n",
       "       [4, 2, 9]])"
      ]
     },
     "execution_count": 13,
     "metadata": {},
     "output_type": "execute_result"
    }
   ],
   "source": [
    "m1\n"
   ]
  },
  {
   "cell_type": "code",
   "execution_count": 14,
   "id": "59148167",
   "metadata": {},
   "outputs": [
    {
     "data": {
      "text/plain": [
       "array([[ 9, 16],\n",
       "       [19, 10],\n",
       "       [ 8, 17]])"
      ]
     },
     "execution_count": 14,
     "metadata": {},
     "output_type": "execute_result"
    }
   ],
   "source": [
    "m2"
   ]
  },
  {
   "cell_type": "code",
   "execution_count": 15,
   "id": "d493c6d1",
   "metadata": {},
   "outputs": [
    {
     "data": {
      "text/plain": [
       "array([[254, 257],\n",
       "       [146, 237]])"
      ]
     },
     "execution_count": 15,
     "metadata": {},
     "output_type": "execute_result"
    }
   ],
   "source": [
    "m1.dot(m2)"
   ]
  },
  {
   "cell_type": "code",
   "execution_count": 16,
   "id": "27dc8916",
   "metadata": {},
   "outputs": [
    {
     "data": {
      "text/plain": [
       "array([[254, 257],\n",
       "       [146, 237]])"
      ]
     },
     "execution_count": 16,
     "metadata": {},
     "output_type": "execute_result"
    }
   ],
   "source": [
    "np.dot(m1,m2)"
   ]
  },
  {
   "cell_type": "code",
   "execution_count": 18,
   "id": "b2459c1d",
   "metadata": {},
   "outputs": [
    {
     "data": {
      "text/plain": [
       "array([[254, 257],\n",
       "       [146, 237]])"
      ]
     },
     "execution_count": 18,
     "metadata": {},
     "output_type": "execute_result"
    }
   ],
   "source": [
    "np.matmul(m1,m2)"
   ]
  },
  {
   "cell_type": "code",
   "execution_count": 22,
   "id": "89b30caf",
   "metadata": {},
   "outputs": [
    {
     "data": {
      "text/plain": [
       "array([[1, 2],\n",
       "       [3, 4]])"
      ]
     },
     "execution_count": 22,
     "metadata": {},
     "output_type": "execute_result"
    }
   ],
   "source": [
    "m3 = np.arange(1,5,1).reshape(2,2)\n",
    "m3"
   ]
  },
  {
   "cell_type": "code",
   "execution_count": 23,
   "id": "2b915a69",
   "metadata": {},
   "outputs": [],
   "source": [
    "inverse = np.linalg.inv(m3)"
   ]
  },
  {
   "cell_type": "code",
   "execution_count": 24,
   "id": "b3442bc7",
   "metadata": {},
   "outputs": [
    {
     "data": {
      "text/plain": [
       "array([[-2. ,  1. ],\n",
       "       [ 1.5, -0.5]])"
      ]
     },
     "execution_count": 24,
     "metadata": {},
     "output_type": "execute_result"
    }
   ],
   "source": [
    "inverse"
   ]
  },
  {
   "cell_type": "code",
   "execution_count": 25,
   "id": "2305777c",
   "metadata": {},
   "outputs": [],
   "source": [
    "determinant = np.linalg.det(m3)"
   ]
  },
  {
   "cell_type": "code",
   "execution_count": 27,
   "id": "742d3e1a",
   "metadata": {},
   "outputs": [
    {
     "data": {
      "text/plain": [
       "-2"
      ]
     },
     "execution_count": 27,
     "metadata": {},
     "output_type": "execute_result"
    }
   ],
   "source": [
    "determinant.astype(int)"
   ]
  },
  {
   "cell_type": "code",
   "execution_count": null,
   "id": "5049b673",
   "metadata": {},
   "outputs": [],
   "source": []
  }
 ],
 "metadata": {
  "kernelspec": {
   "display_name": "Python 3",
   "language": "python",
   "name": "python3"
  },
  "language_info": {
   "codemirror_mode": {
    "name": "ipython",
    "version": 3
   },
   "file_extension": ".py",
   "mimetype": "text/x-python",
   "name": "python",
   "nbconvert_exporter": "python",
   "pygments_lexer": "ipython3",
   "version": "3.8.8"
  }
 },
 "nbformat": 4,
 "nbformat_minor": 5
}
